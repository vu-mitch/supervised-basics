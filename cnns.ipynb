{
 "cells": [
  {
   "cell_type": "markdown",
   "metadata": {
    "id": "ou8e20tzDq-p",
    "tags": [
     "text"
    ]
   },
   "source": [
    "<h1 style=\"color:rgb(0,120,170)\">CNNs </h1>"
   ]
  },
  {
   "cell_type": "markdown",
   "metadata": {
    "id": "5l0Io1_2Dq-v",
    "tags": [
     "text"
    ]
   },
   "source": [
    "<h2 style=\"color:rgb(0,120,170)\">Task 1: Explicit Computation of CNNs</h2>\n",
    "\n",
    "\n"
   ]
  },
  {
   "cell_type": "markdown",
   "metadata": {
    "id": "ofipfzlXDq-w",
    "tags": [
     "text"
    ]
   },
   "source": [
    "<h2 style=\"color:rgb(0,120,170)\">Task 1.1: Convolution and Stride</h2>\n",
    "\n",
    "In this task, you should do some computuations for CNNs explicitly to gain further understanding how the corresponding operations work. Your are not allowed to use any other modules than numpy for all the problems in task 1.\n",
    "\n",
    "Assume you are given the following input image, represented as $\\mathbf{x}=\\begin{pmatrix} 1 & 0 & 1 & 1 & 0 & 0 \\\\ 0 & 1 & 1 & 0 & 0 & 0 \\\\ 0 & 1 & 0 & 1 & 1 & 0 \\\\ 1 & 1 & 0 & 1 & 1 & 1 \\\\ 0 & 1 & 1 & 1 & 0 & 0 \\\\ 1 & 1 & 1 & 0 & 0 & 1  \\end{pmatrix}$.\n",
    "* Consider the filter $\\mathbf{W}=\\begin{pmatrix} 1 & 1 & 1 \\\\ 0 & 2 & 0 \\\\ 1 & 1 & 1 \\end{pmatrix}$ and compute $\\mathbf{s}=\\mathbf{W} * \\mathbf{x}$. To do this, implement the function `compute_convolution` which computes the output.\n",
    "* Now add the functionality of using the stride parameter to the function and test it for $S=2$."
   ]
  },
  {
   "cell_type": "markdown",
   "metadata": {
    "id": "nFiR4YBCDq-w",
    "tags": [
     "text"
    ]
   },
   "source": [
    "<h3 style=\"color:rgb(208,90,80)\">1.1 Code (30 points)</h3>"
   ]
  },
  {
   "cell_type": "code",
   "execution_count": 1,
   "metadata": {
    "id": "7YOXpnTGlhU7",
    "tags": [
     "variables"
    ]
   },
   "outputs": [],
   "source": [
    "import numpy as np\n",
    "image = np.array([[1,0,1,1,0,0],[0,1,1,0,0,0],[0,1,0,1,1,0],[1,1,0,1,1,1],[0,1,1,1,0,0],[1,1,1,0,0,1]])\n",
    "filter_ = np.array([[1,1,1],[0,2,0],[1,1,1]])"
   ]
  },
  {
   "cell_type": "code",
   "execution_count": 2,
   "metadata": {
    "id": "4t_ajwS-lhU9",
    "tags": [
     "convolution"
    ]
   },
   "outputs": [],
   "source": [
    "\"\"\"\n",
    "Function that computes convolution of image array\n",
    "@param image, np.array, image data\n",
    "@param filter_, np.array, filter\n",
    "@stride, integer, indictates the amount of striding\n",
    "\n",
    "@output convolved, np.array, result of convolution\n",
    "\"\"\"\n",
    "def compute_convolution(image, filter_, stride):\n",
    "    r, c = image.shape #row_len, column_len\n",
    "    f = filter_.shape[-1] #filter_len\n",
    "    row_indices = np.arange(0, r, stride)\n",
    "    column_indices = np.arange(0, c, stride)\n",
    "    new_r, new_c = (r-f) // stride + 1, (c-f) // stride + 1\n",
    "    conv_values = list()\n",
    "    for i in row_indices:\n",
    "        for j in column_indices:\n",
    "            conv_values.append(np.sum(image[i:i+f, j:j+f] * filter_, axis=(0,1)))\n",
    "            if j + f == c:\n",
    "                break\n",
    "        if i + f == r:\n",
    "            break\n",
    "    convolved = np.array(conv_values).reshape(new_r, new_c)\n",
    "    return convolved"
   ]
  },
  {
   "cell_type": "code",
   "execution_count": 3,
   "metadata": {
    "colab": {
     "base_uri": "https://localhost:8080/"
    },
    "id": "QgF2dAHelhU-",
    "outputId": "25a8aea5-9dfd-4098-d9ac-ed11f083b5a9",
    "tags": [
     "exec"
    ]
   },
   "outputs": [
    {
     "name": "stdout",
     "output_type": "stream",
     "text": [
      "[[5 6 4 3]\n",
      " [6 4 5 5]\n",
      " [5 5 6 5]\n",
      " [7 6 5 4]]\n",
      "[[5 3]\n",
      " [7 4]]\n"
     ]
    }
   ],
   "source": [
    "print(compute_convolution(image,filter_,1))\n",
    "print(compute_convolution(image,filter_,3))"
   ]
  },
  {
   "cell_type": "markdown",
   "metadata": {
    "id": "3Um4zFvQlhU_",
    "tags": [
     "text"
    ]
   },
   "source": [
    "<h2 style=\"color:rgb(0,120,170)\">Task 1.2: Pooling</h2>"
   ]
  },
  {
   "cell_type": "markdown",
   "metadata": {
    "id": "VCrAj6fXlhU_",
    "tags": [
     "text"
    ]
   },
   "source": [
    "After convolution layers, you usually find pooling layers in CNNs to reduce the input size for further layers. To this end, we ask you to implement your own pooling function as well.\n",
    "\n",
    "* Implement the function `max_pooling()` which applies max-pooling to an input image.\n",
    "* Now also implement the function `mean_pooling()`, which instead of taking the maximum value in the window calculates the mean for each output entry.\n",
    "\n",
    "**Hint:** You can reuse big parts of the previous task for this. "
   ]
  },
  {
   "cell_type": "markdown",
   "metadata": {
    "id": "4EvSVvC5lhU_",
    "tags": [
     "text"
    ]
   },
   "source": [
    "<h3 style=\"color:rgb(208,90,80)\">1.2 Code (15 points)</h3>"
   ]
  },
  {
   "cell_type": "code",
   "execution_count": 4,
   "metadata": {
    "id": "HjY52JnClhVA",
    "tags": [
     "maxpooling"
    ]
   },
   "outputs": [],
   "source": [
    "\"\"\"\n",
    "Function that applies max pooling on image\n",
    "@param image, np.array, image data\n",
    "@pooling_size, integer, indicates the size of the pooling \"kernel\"\n",
    "\n",
    "@output pooled, np.array, output of pooling operation\n",
    "\"\"\"\n",
    "def max_pooling(image,pooling_size):\n",
    "    max_values = list()\n",
    "    for i in np.arange(0, image.shape[0], pooling_size):\n",
    "        for j in np.arange(0, image.shape[1], pooling_size):\n",
    "            max_values.append(np.max(image[i:i+pooling_size, j:j+pooling_size]))\n",
    "            if j + pooling_size == image.shape[1]:\n",
    "                break\n",
    "        if i + pooling_size == image.shape[0]:\n",
    "            break\n",
    "    len_p = int(np.sqrt(len(max_values)))\n",
    "    pooled = np.array(max_values).reshape(len_p, len_p)\n",
    "    return pooled"
   ]
  },
  {
   "cell_type": "code",
   "execution_count": 5,
   "metadata": {
    "id": "eCCUeg32lhVA",
    "tags": [
     "meanpooling"
    ]
   },
   "outputs": [],
   "source": [
    "\"\"\"\n",
    "Function that applies mean pooling on image\n",
    "@param image, np.array, image data\n",
    "@pooling_size, integer, indicates the size of the pooling \"kernel\"\n",
    "\n",
    "@output pooled, np.array, output of pooling operation\n",
    "\"\"\"\n",
    "def mean_pooling(image,pooling_size):\n",
    "    avg_values = list()\n",
    "    for i in np.arange(0, image.shape[0], pooling_size):\n",
    "        for j in np.arange(0, image.shape[1], pooling_size):\n",
    "            avg_values.append(np.mean(image[i:i+pooling_size, j:j+pooling_size]))\n",
    "            if j + pooling_size == image.shape[1]:\n",
    "                break\n",
    "        if i + pooling_size == image.shape[0]:\n",
    "            break\n",
    "    len_p = int(np.sqrt(len(avg_values)))\n",
    "    pooled = np.array(avg_values).reshape(len_p, len_p)\n",
    "    return pooled"
   ]
  },
  {
   "cell_type": "code",
   "execution_count": 6,
   "metadata": {
    "colab": {
     "base_uri": "https://localhost:8080/"
    },
    "id": "06bkcOptlhVA",
    "outputId": "ac991245-19d1-44d7-c51c-d2def1ae65ad",
    "tags": [
     "exec"
    ]
   },
   "outputs": [
    {
     "name": "stdout",
     "output_type": "stream",
     "text": [
      "[[1 1 0]\n",
      " [1 1 1]\n",
      " [1 1 1]]\n",
      "[[0.5  0.75 0.  ]\n",
      " [0.75 0.5  0.75]\n",
      " [0.75 0.75 0.25]]\n"
     ]
    }
   ],
   "source": [
    "print(max_pooling(image,2))\n",
    "print(mean_pooling(image,2))"
   ]
  },
  {
   "cell_type": "markdown",
   "metadata": {
    "id": "TzbXKj-DlhVB",
    "tags": [
     "text"
    ]
   },
   "source": [
    "<h2 style=\"color:rgb(0,120,170)\">Task 1.3: Zero-Padding</h2>"
   ]
  },
  {
   "cell_type": "markdown",
   "metadata": {
    "id": "6UcVFtOdlhVB",
    "tags": [
     "text"
    ]
   },
   "source": [
    "Right now, our implementation for the convolution will decrease the image size in any case, but often one wants to end up with a specific dimension in the end. Therefore we need to manipulate the given image in order to be able to apply the convolution in a way that delivers the desired output.\n",
    "\n",
    "* Implement the function `compute_padding()` which calculates the needed zero padding given the original size, kernel (=filter) size and a stride parameter to end up with some desired size of the feature map in the end. You can assume that height = widht for all entities. Keep in mind that only an integer solution will make sense in this case, so if the result is not an integer, return \"False\".\n",
    "\n",
    "* Implement the function `zero_padding()` which pads the given image by a certain number of rows/columns of zeros (in each direction)\n",
    "\n",
    "* Exectute/Print the functions for the given specific choice of parameters."
   ]
  },
  {
   "cell_type": "markdown",
   "metadata": {
    "id": "uj4i0wr2lhVB",
    "tags": [
     "text"
    ]
   },
   "source": [
    "<h3 style=\"color:rgb(208,90,80)\">1.3 Code (15 points)</h3>"
   ]
  },
  {
   "cell_type": "code",
   "execution_count": 7,
   "metadata": {
    "id": "hP5ltBp5lhVC",
    "tags": [
     "padding"
    ]
   },
   "outputs": [],
   "source": [
    "\"\"\"\n",
    "Function that computes necessary padding to apply convolution in the desired manner\n",
    "@param input_size, integer, size of input\n",
    "@param feature_size, integer, size of feature map (the size of the output)\n",
    "@param filter_size, integer, size of the filter\n",
    "@stride, integer, striding parameter for convolution\n",
    "\n",
    "@output if result of calculation is integer: int\n",
    "        else: False\n",
    "\"\"\"\n",
    "def compute_padding(input_size,feature_size,filter_size,stride): \n",
    "    missing = (feature_size - 1) * stride + filter_size\n",
    "    check = missing - input_size \n",
    "    if check % 2 == 0:\n",
    "        return check // 2\n",
    "    else:\n",
    "        return False"
   ]
  },
  {
   "cell_type": "code",
   "execution_count": 8,
   "metadata": {
    "id": "4WHFPyemlhVC",
    "tags": [
     "zeropadding"
    ]
   },
   "outputs": [],
   "source": [
    "\"\"\"\n",
    "Function that pads image\n",
    "@param image, np.array, image array\n",
    "@param pad_size, integer, amount of padding (on each side of the image)\n",
    "\n",
    "@output padded, np.array, the padded array\n",
    "\"\"\"\n",
    "def zero_padding(image,pad_size):\n",
    "    padded = np.pad(image, pad_size)\n",
    "    return padded"
   ]
  },
  {
   "cell_type": "code",
   "execution_count": 9,
   "metadata": {
    "colab": {
     "base_uri": "https://localhost:8080/"
    },
    "id": "GsFXcYZdlhVD",
    "outputId": "358ec27d-4c83-46a8-a523-8be6b3e8f469",
    "tags": [
     "exec"
    ]
   },
   "outputs": [
    {
     "name": "stdout",
     "output_type": "stream",
     "text": [
      "The necessary amount of padding is 4\n",
      "[[0 0 0 0 0 0 0 0 0 0 0 0 0 0]\n",
      " [0 0 0 0 0 0 0 0 0 0 0 0 0 0]\n",
      " [0 0 0 0 0 0 0 0 0 0 0 0 0 0]\n",
      " [0 0 0 0 0 0 0 0 0 0 0 0 0 0]\n",
      " [0 0 0 0 1 0 1 1 0 0 0 0 0 0]\n",
      " [0 0 0 0 0 1 1 0 0 0 0 0 0 0]\n",
      " [0 0 0 0 0 1 0 1 1 0 0 0 0 0]\n",
      " [0 0 0 0 1 1 0 1 1 1 0 0 0 0]\n",
      " [0 0 0 0 0 1 1 1 0 0 0 0 0 0]\n",
      " [0 0 0 0 1 1 1 0 0 1 0 0 0 0]\n",
      " [0 0 0 0 0 0 0 0 0 0 0 0 0 0]\n",
      " [0 0 0 0 0 0 0 0 0 0 0 0 0 0]\n",
      " [0 0 0 0 0 0 0 0 0 0 0 0 0 0]\n",
      " [0 0 0 0 0 0 0 0 0 0 0 0 0 0]]\n"
     ]
    }
   ],
   "source": [
    "print(\"The necessary amount of padding is {}\".format(compute_padding(5,6,3,2)))\n",
    "print(zero_padding(image,compute_padding(5,6,3,2)))"
   ]
  },
  {
   "cell_type": "markdown",
   "metadata": {
    "id": "GT0R99mVlhVE",
    "tags": [
     "text"
    ]
   },
   "source": [
    "<h2 style=\"color:rgb(0,120,170)\">Task 1.4: The Whole Process</h2>"
   ]
  },
  {
   "cell_type": "markdown",
   "metadata": {
    "id": "Eanqi7AklhVE",
    "tags": [
     "text"
    ]
   },
   "source": [
    "Now everything should be in place and we can combine the implemented solution into one pipeline.\n",
    "\n",
    "* Implement the function `image_process()` which takes an image, filter and a stride parameter as input and first computes the convolution followed by Max-Pooling. Keep in mind, that the image might have to be padded before application of the convolution.\n",
    "\n",
    "**Note:** You can still assume that both image and kernel are quadratic (i.e. height = width)."
   ]
  },
  {
   "cell_type": "markdown",
   "metadata": {
    "id": "_z8YIt3VlhVE",
    "tags": [
     "text"
    ]
   },
   "source": [
    "<h3 style=\"color:rgb(208,90,80)\">1.4 Code (10 points)</h3>"
   ]
  },
  {
   "cell_type": "code",
   "execution_count": 10,
   "metadata": {
    "id": "Mw5_52VLlhVE",
    "tags": [
     "process"
    ]
   },
   "outputs": [],
   "source": [
    "\"\"\"\n",
    "Function that processes an image. It first calculates the necessary padding, if padding is possible (integer) it\n",
    "performs the padding, followed by convolution and pooling\n",
    "@param image, np.array, image data\n",
    "@param feature_size, integer, size of feature map (the size of the output) before(!) pooling\n",
    "@param filter_, np.array, filter\n",
    "@param stride, integer, indictates the amount of striding\n",
    "@param pooling_size, integer, indicates the size of the pooling \"kernel\"\n",
    "\n",
    "@output if padding is possible (integer): result, np.array, result of all this processes\n",
    "        else: False\n",
    "\"\"\"\n",
    "\n",
    "def image_process(image,feature_size,filter_,stride,pooling_size):\n",
    "    inp_size = image.shape[0]\n",
    "    fil_size = filter_.shape[0]\n",
    "    p = compute_padding(inp_size, feature_size, fil_size, stride)\n",
    "    if p:\n",
    "        padded = zero_padding(image, p)\n",
    "        conv = compute_convolution(padded, filter_, stride)\n",
    "        pooled = max_pooling(conv, pooling_size)\n",
    "        return pooled\n",
    "    else:\n",
    "        return False"
   ]
  },
  {
   "cell_type": "code",
   "execution_count": 11,
   "metadata": {
    "colab": {
     "base_uri": "https://localhost:8080/"
    },
    "id": "ESJtpICplhVF",
    "outputId": "02815aa0-d0a7-49e1-cfd1-8a23924d8bca",
    "tags": [
     "exec"
    ]
   },
   "outputs": [
    {
     "name": "stdout",
     "output_type": "stream",
     "text": [
      "[[5 6 3]\n",
      " [6 6 5]\n",
      " [7 6 4]]\n",
      "[[5 3]\n",
      " [7 4]]\n"
     ]
    }
   ],
   "source": [
    "print(image_process(image,6,filter_,1,2))\n",
    "print(image_process(image,6,filter_,3,3))"
   ]
  },
  {
   "cell_type": "markdown",
   "metadata": {
    "id": "ThpuXicXDq-x",
    "tags": [
     "text"
    ]
   },
   "source": [
    "<h2 style=\"color:rgb(0,120,170)\">Task 2: CNNs vs. the Rest</h2>"
   ]
  },
  {
   "cell_type": "markdown",
   "metadata": {
    "id": "JKF1LOgqYLSg",
    "tags": [
     "text"
    ]
   },
   "source": [
    "In this task, we will carry out a comparison of several classifiers on different portions of the FashionMNIST data set. From the whole training data we create smaller training sets that have $[0.05,0.10,0.25, 0.50, 1.00]$ times the the size of the total set. Compared to the previous assignment, the data loader is modified a little so that it outputs different formats for the computations with Pytorch, where we use tensors, and sklearn, where we use numpy arrays.\n",
    "\n",
    "To save computation time, you may leave the CALCULATE_ALL variable to False."
   ]
  },
  {
   "cell_type": "code",
   "execution_count": 1,
   "metadata": {
    "id": "_emGj06nlhVG",
    "tags": [
     "calculate"
    ]
   },
   "outputs": [],
   "source": [
    "CALCULATE_ALL = False ## if True recalculate all entries in experiments, otherwise just the result for 5% and 10% data"
   ]
  },
  {
   "cell_type": "code",
   "execution_count": 2,
   "metadata": {
    "id": "h6-awJvdDq-x",
    "tags": [
     "imports"
    ]
   },
   "outputs": [],
   "source": [
    "import torch\n",
    "import torch.nn as nn\n",
    "import torch.nn.functional as F\n",
    "from torch.autograd import Variable\n",
    "import torch.optim as optim\n",
    "from torchvision import datasets, transforms\n",
    "from types import SimpleNamespace\n",
    "import matplotlib.pyplot as plt\n",
    "import numpy as np\n",
    "import os\n",
    "import time\n",
    "from sklearn.svm import SVC\n",
    "from sklearn.tree import DecisionTreeClassifier\n",
    "from sklearn.ensemble import RandomForestClassifier\n",
    "\n",
    "from IPython.display import clear_output, display"
   ]
  },
  {
   "cell_type": "code",
   "execution_count": 3,
   "metadata": {
    "id": "PPJI5ZnxDq-z",
    "tags": [
     "setting"
    ]
   },
   "outputs": [],
   "source": [
    "int_classes = int \n",
    "seed = 42\n",
    "torch.manual_seed(seed)\n",
    "np.random.seed(seed)\n",
    "use_cuda = torch.cuda.is_available()\n",
    "device = torch.device('cuda' if use_cuda else 'cpu')"
   ]
  },
  {
   "cell_type": "code",
   "execution_count": 4,
   "metadata": {
    "colab": {
     "base_uri": "https://localhost:8080/",
     "height": 443,
     "referenced_widgets": [
      "9130660439c045b88cd150d47ae82d7e",
      "be3c77ff6401446da7127227628e7005",
      "07f23fb0319245b181af13e840e37b85",
      "28300d76981c4e80bed60da204401ee4",
      "2ea74aa2eaa24b92b69824426073c6d1",
      "e9da458a5029426f81dc5eb3c085b151",
      "7525bf52be444e8c8a6af258bdeefef8",
      "ec25ad4617884fed90e7e38e48ea6e88",
      "95d0c6034c41424ea45a4b2f6cf0e63d",
      "3f39db0c32b54e9d8b427f08743b6605",
      "3627410682544f19a4348a20b2cb0cd2",
      "5c26b0e7511a4cc388d37c8e26f269a9",
      "6e85324ecfc24524a8f06d6749c95033",
      "6fdb31b84fd046ccb26bab4eddfc904c",
      "8ee11f50bc40437ca67344d12299f5a4",
      "9d06c7b56f9e4fb7bf52b5c0bab15e33",
      "20658e68505e491e862ce34c8ab84a9c",
      "dbdbf62faf374a72a88e9ed0ea52f2e4",
      "1f902208730745aabfa9ae97c7c4c682",
      "903242abb91f47a2abaead00ac7be299",
      "08e48b6f0cd644e093a678766911707c",
      "a9ebab30fcf147d38f33c3180dfa67b1",
      "3636c1d25c5f4bf38a020fbf7a7d8387",
      "39b61f718790477d9879e4d25fd49888",
      "af8900647c1e44ef92fc442a545d7d4f",
      "c39dfa288f494e179a4da5d509320d90",
      "d78c2022ea164abf8a87a1f99499044e",
      "a4c69af676234851b4f81f708e85e191",
      "e5e097e49c3045d4bf8149aacf24e416",
      "f8fae80e40a54768862e6c411a9f3cab",
      "eae8752c021c405b878de8b630aa543e",
      "879d719ffd2b4767af1bbc0abd826324",
      "f8b832e0b4a1498dbb736d1bd0f82ce5",
      "a9c9afacd7d049a7bdc1c884ae0df012",
      "87975b88dd674ddd8bee58531b7ad460",
      "faaac199c3bd4d81a38bd300e5da5d7b",
      "40ffb66ed58f4daa9527b32f840f684c",
      "d9ca9cd087164733a130eb108bb75b95",
      "b361246cdd0f493a8fd4565b188f313e",
      "d80eea2a6fa94190aae0f0256b9fa870",
      "f48b311218b54b218026a660487925c5",
      "d78a7b6865d141cea6977045fc2f1005",
      "f1199ab41a5e4cfcb4a3de69209599e6",
      "a6d4eddd146449b3b30ba706fc9ddf51"
     ]
    },
    "id": "9IVEE1WYDq-1",
    "outputId": "9c50e74c-d11b-4ff6-ec6d-0fa010728b5f",
    "scrolled": true,
    "tags": [
     "sampler"
    ]
   },
   "outputs": [
    {
     "name": "stdout",
     "output_type": "stream",
     "text": [
      "Downloading http://fashion-mnist.s3-website.eu-central-1.amazonaws.com/train-images-idx3-ubyte.gz\n",
      "Downloading http://fashion-mnist.s3-website.eu-central-1.amazonaws.com/train-images-idx3-ubyte.gz to data/FashionMNIST/raw/train-images-idx3-ubyte.gz\n"
     ]
    },
    {
     "data": {
      "application/vnd.jupyter.widget-view+json": {
       "model_id": "9130660439c045b88cd150d47ae82d7e",
       "version_major": 2,
       "version_minor": 0
      },
      "text/plain": [
       "  0%|          | 0/26421880 [00:00<?, ?it/s]"
      ]
     },
     "metadata": {},
     "output_type": "display_data"
    },
    {
     "name": "stdout",
     "output_type": "stream",
     "text": [
      "Extracting data/FashionMNIST/raw/train-images-idx3-ubyte.gz to data/FashionMNIST/raw\n",
      "\n",
      "Downloading http://fashion-mnist.s3-website.eu-central-1.amazonaws.com/train-labels-idx1-ubyte.gz\n",
      "Downloading http://fashion-mnist.s3-website.eu-central-1.amazonaws.com/train-labels-idx1-ubyte.gz to data/FashionMNIST/raw/train-labels-idx1-ubyte.gz\n"
     ]
    },
    {
     "data": {
      "application/vnd.jupyter.widget-view+json": {
       "model_id": "5c26b0e7511a4cc388d37c8e26f269a9",
       "version_major": 2,
       "version_minor": 0
      },
      "text/plain": [
       "  0%|          | 0/29515 [00:00<?, ?it/s]"
      ]
     },
     "metadata": {},
     "output_type": "display_data"
    },
    {
     "name": "stdout",
     "output_type": "stream",
     "text": [
      "Extracting data/FashionMNIST/raw/train-labels-idx1-ubyte.gz to data/FashionMNIST/raw\n",
      "\n",
      "Downloading http://fashion-mnist.s3-website.eu-central-1.amazonaws.com/t10k-images-idx3-ubyte.gz\n",
      "Downloading http://fashion-mnist.s3-website.eu-central-1.amazonaws.com/t10k-images-idx3-ubyte.gz to data/FashionMNIST/raw/t10k-images-idx3-ubyte.gz\n"
     ]
    },
    {
     "data": {
      "application/vnd.jupyter.widget-view+json": {
       "model_id": "3636c1d25c5f4bf38a020fbf7a7d8387",
       "version_major": 2,
       "version_minor": 0
      },
      "text/plain": [
       "  0%|          | 0/4422102 [00:00<?, ?it/s]"
      ]
     },
     "metadata": {},
     "output_type": "display_data"
    },
    {
     "name": "stdout",
     "output_type": "stream",
     "text": [
      "Extracting data/FashionMNIST/raw/t10k-images-idx3-ubyte.gz to data/FashionMNIST/raw\n",
      "\n",
      "Downloading http://fashion-mnist.s3-website.eu-central-1.amazonaws.com/t10k-labels-idx1-ubyte.gz\n",
      "Downloading http://fashion-mnist.s3-website.eu-central-1.amazonaws.com/t10k-labels-idx1-ubyte.gz to data/FashionMNIST/raw/t10k-labels-idx1-ubyte.gz\n"
     ]
    },
    {
     "data": {
      "application/vnd.jupyter.widget-view+json": {
       "model_id": "a9c9afacd7d049a7bdc1c884ae0df012",
       "version_major": 2,
       "version_minor": 0
      },
      "text/plain": [
       "  0%|          | 0/5148 [00:00<?, ?it/s]"
      ]
     },
     "metadata": {},
     "output_type": "display_data"
    },
    {
     "name": "stdout",
     "output_type": "stream",
     "text": [
      "Extracting data/FashionMNIST/raw/t10k-labels-idx1-ubyte.gz to data/FashionMNIST/raw\n",
      "\n"
     ]
    }
   ],
   "source": [
    "### use Pytorch dataloader with a subset of the training data\n",
    "def get_sampler(N_samples):  \n",
    "    mask = list(np.arange(N_samples))  ## list of valid sample_ids\n",
    "    return torch.utils.data.RandomSampler(mask) ## random order\n",
    "\n",
    "def get_data_loader(use_cuda,batch_size=64,train=True,get_all=False,sampler=None):\n",
    "    kwargs = {'num_workers': 1, 'pin_memory': True} if use_cuda else {}\n",
    "    loader = torch.utils.data.DataLoader(\n",
    "        #datasets.FashionMNIST(os.path.join('.','..','data')\n",
    "        datasets.FashionMNIST(os.path.join('data')\n",
    "                            ,train=train, download=True,\n",
    "                       transform=transforms.Compose([\n",
    "                           transforms.ToTensor(),\n",
    "                           transforms.Normalize((0.2859,), (0.3530,))\n",
    "                       ])), shuffle=False, sampler=sampler, batch_size=batch_size,**kwargs)\n",
    "    ## return numpy arrays of the dataset\n",
    "    if get_all: \n",
    "        for _, (train_samples, train_labels) in enumerate(loader):\n",
    "            return train_samples.numpy().reshape(-1,28*28),train_labels.numpy()\n",
    "    ## return loader to provide minibatches\n",
    "    else:\n",
    "        return loader\n",
    "\n",
    "### prepare data for sklearn models\n",
    "train_samples, train_labels = get_data_loader(use_cuda,batch_size=6*10**4,train=True,get_all = True)\n",
    "test_samples, test_labels = get_data_loader(use_cuda,batch_size=10**4,train=False,get_all = True)"
   ]
  },
  {
   "cell_type": "markdown",
   "metadata": {
    "id": "aqjz-K2QYLSr",
    "tags": [
     "text"
    ]
   },
   "source": [
    "Now we want to apply different models to our prepared data. We also want to print and store accuracy, training time and inference time, so these should be our results. In the dictionary \"experiments\", we want to store these informations in an array for the different models and different training data sizes. Just run the code in oder to understand better what is meant exactly."
   ]
  },
  {
   "cell_type": "code",
   "execution_count": 5,
   "metadata": {
    "colab": {
     "base_uri": "https://localhost:8080/"
    },
    "id": "1RY4eW83Dq-3",
    "outputId": "d1a7832b-5a49-4390-fa8f-8227dd65874e",
    "tags": [
     "dictionary"
    ]
   },
   "outputs": [
    {
     "name": "stderr",
     "output_type": "stream",
     "text": [
      "<ipython-input-5-aa3fca69a005>:5: DeprecationWarning: `np.int` is a deprecated alias for the builtin `int`. To silence this warning, use `int` by itself. Doing this will not modify any behavior and is safe. When replacing `np.int`, you may wish to use e.g. `np.int64` or `np.int32` to specify the precision. If you wish to review your current use, check the release note link for additional information.\n",
      "Deprecated in NumPy 1.20; for more details and guidance: https://numpy.org/devdocs/release/1.20.0-notes.html#deprecations\n",
      "  experiments[\"N_samples\"] = (60000 * experiments[\"percentages\"]).astype(np.int)\n"
     ]
    },
    {
     "data": {
      "text/plain": [
       "{'percentages': array([0.05, 0.1 , 0.25, 0.5 , 1.  ]),\n",
       " 'N_samples': array([3000, 6000]),\n",
       " 'RF_100': {'accuracy': array([ 0.  ,  0.  , 85.67, 86.76, 87.77]),\n",
       "  'training_time': array([ 0.  ,  0.  , 13.22, 29.77, 67.63]),\n",
       "  'inference_time': array([0.  , 0.  , 0.32, 0.35, 0.4 ])},\n",
       " 'RF_500': {'accuracy': array([ 0.  ,  0.  , 85.97, 86.97, 87.86]),\n",
       "  'training_time': array([  0.  ,   0.  ,  65.26, 148.64, 337.84]),\n",
       "  'inference_time': array([0.  , 0.  , 1.53, 1.72, 1.95])},\n",
       " 'SVM': {'accuracy': array([ 0.  ,  0.  , 86.14, 87.03, 88.28]),\n",
       "  'training_time': array([  0.  ,   0.  ,  40.43, 130.63, 433.99]),\n",
       "  'inference_time': array([  0.  ,   0.  ,  49.58,  88.61, 157.68])},\n",
       " 'CNN_simple': {'accuracy': array([ 0.  ,  0.  , 83.28, 85.66, 87.9 ]),\n",
       "  'training_time': array([  0.  ,   0.  ,  40.76,  80.33, 162.19]),\n",
       "  'inference_time': array([0.  , 0.  , 1.29, 1.35, 1.32])},\n",
       " 'CNN_wide': {'accuracy': array([ 0.  ,  0.  , 84.83, 86.7 , 90.48]),\n",
       "  'training_time': array([  0.  ,   0.  ,  40.6 ,  81.93, 160.84]),\n",
       "  'inference_time': array([0.  , 0.  , 1.32, 1.33, 1.35])},\n",
       " 'CNN_deep': {'accuracy': array([ 0.  ,  0.  , 88.95, 90.08, 91.86]),\n",
       "  'training_time': array([  0.  ,   0.  ,  42.48,  82.38, 162.91]),\n",
       "  'inference_time': array([0.  , 0.  , 1.34, 1.31, 1.32])},\n",
       " 'CNN_wide_max': {'accuracy': array([ 0.  ,  0.  , 89.57, 90.12, 91.02]),\n",
       "  'training_time': array([  0.  ,   0.  ,  41.09,  82.07, 161.16]),\n",
       "  'inference_time': array([0.  , 0.  , 1.3 , 1.36, 1.33])}}"
      ]
     },
     "execution_count": 5,
     "metadata": {},
     "output_type": "execute_result"
    }
   ],
   "source": [
    "models = [\"RF_100\",\"RF_500\",\"SVM\",\"CNN_simple\",\"CNN_wide\",\"CNN_deep\",\"CNN_wide_max\"]\n",
    "results = [\"accuracy\",\"training_time\",\"inference_time\"]\n",
    "experiments = {}\n",
    "experiments[\"percentages\"] = np.array([0.05,0.10,0.25,0.50,1.00])\n",
    "experiments[\"N_samples\"] = (60000 * experiments[\"percentages\"]).astype(np.int)\n",
    "\n",
    "for k in models:\n",
    "    experiments[k] = {}\n",
    "    for l in results:\n",
    "        experiments[k][l] = np.zeros([len(experiments[\"N_samples\"])])\n",
    "        \n",
    "## to save time, you can use precomputed values for the larger subsets\n",
    "if not CALCULATE_ALL:\n",
    "    experiments[\"N_samples\"] = experiments[\"N_samples\"][:-3]\n",
    "    experiments[\"RF_100\"][\"accuracy\"][-3:],experiments[\"RF_100\"][\"training_time\"][-3:],experiments[\"RF_100\"][\"inference_time\"][-3:]  = \\\n",
    "        np.array([85.67, 86.76, 87.77]), np.array([13.22, 29.77, 67.63]), np.array([0.32, 0.35, 0.4])\n",
    "    experiments[\"RF_500\"][\"accuracy\"][-3:],experiments[\"RF_500\"][\"training_time\"][-3:],experiments[\"RF_500\"][\"inference_time\"][-3:]  = \\\n",
    "        np.array([85.97, 86.97, 87.86]), np.array([65.26, 148.64, 337.84]), np.array([1.53, 1.72, 1.95])\n",
    "    experiments[\"SVM\"][\"accuracy\"][-3:],experiments[\"SVM\"][\"training_time\"][-3:],experiments[\"SVM\"][\"inference_time\"][-3:]  = \\\n",
    "        np.array([ 86.14, 87.03, 88.28]), np.array([40.43, 130.63, 433.99]), np.array([49.58,  88.61, 157.68])\n",
    "    experiments[\"RF_100\"][\"accuracy\"][-3:],experiments[\"RF_100\"][\"training_time\"][-3:],experiments[\"RF_100\"][\"inference_time\"][-3:]  = \\\n",
    "    np.array([85.67, 86.76, 87.77]), np.array([13.22, 29.77, 67.63]), np.array([0.32, 0.35, 0.4])\n",
    "    experiments[\"CNN_simple\"][\"accuracy\"][-3:],experiments[\"CNN_simple\"][\"training_time\"][-3:],experiments[\"CNN_simple\"][\"inference_time\"][-3:]  = \\\n",
    "        np.array([ 83.28, 85.66, 87.9]), np.array([40.76,  80.33, 162.19]), np.array([1.29, 1.35, 1.32])\n",
    "    experiments[\"CNN_wide\"][\"accuracy\"][-3:],experiments[\"CNN_wide\"][\"training_time\"][-3:],experiments[\"CNN_wide\"][\"inference_time\"][-3:]  = \\\n",
    "        np.array([84.83, 86.7 , 90.48]), np.array([40.6 ,  81.93, 160.84]), np.array([1.32, 1.33, 1.35])\n",
    "    experiments[\"CNN_deep\"][\"accuracy\"][-3:],experiments[\"CNN_deep\"][\"training_time\"][-3:],experiments[\"CNN_deep\"][\"inference_time\"][-3:]  = \\\n",
    "        np.array([ 88.95, 90.08, 91.86]), np.array([42.48,  82.38, 162.91]), np.array([1.34, 1.31, 1.32])\n",
    "    experiments[\"CNN_wide_max\"][\"accuracy\"][-3:],experiments[\"CNN_wide_max\"][\"training_time\"][-3:],experiments[\"CNN_wide_max\"][\"inference_time\"][-3:]  = \\\n",
    "        np.array([89.57, 90.12, 91.02]), np.array([41.09,  82.07, 161.16]), np.array([1.3 , 1.36, 1.33])\n",
    "    \n",
    "experiments"
   ]
  },
  {
   "cell_type": "markdown",
   "metadata": {
    "id": "gIz9FAWwYLSu",
    "tags": [
     "text"
    ]
   },
   "source": [
    "Next, we want to apply this routine to the sklearn models first (i.e RFs and SVMs) for the different sizes of the data set. We implemented the routine for Random Forest with 100 estimators, with 500 estimators and for SVM:"
   ]
  },
  {
   "cell_type": "code",
   "execution_count": 6,
   "metadata": {
    "colab": {
     "base_uri": "https://localhost:8080/"
    },
    "id": "c_XUfWb1Dq-9",
    "outputId": "8b2e71ba-4692-4aa3-9810-0b1e08092ef2",
    "tags": [
     "exec"
    ]
   },
   "outputs": [
    {
     "name": "stdout",
     "output_type": "stream",
     "text": [
      "Subset consists of 3000 samples\n",
      "training took 2.46 seconds\n",
      "inference took 0.25 seconds\n",
      "test accuracy: 82.42 percent\n",
      "Subset consists of 6000 samples\n",
      "training took 7.77 seconds\n",
      "inference took 0.35 seconds\n",
      "test accuracy: 83.91 percent\n"
     ]
    }
   ],
   "source": [
    "### code for experiments['RF_100'], just execute\n",
    "for i,n_samples in enumerate(experiments[\"N_samples\"]):\n",
    "    print(\"Subset consists of {} samples\".format(n_samples))\n",
    "    model = RandomForestClassifier(n_estimators=100)\n",
    "    \n",
    "    start_train= time.time()\n",
    "    model.fit(train_samples[:n_samples],train_labels[:n_samples])\n",
    "    end_train = time.time()\n",
    "    train_time = np.round(end_train-start_train,decimals=2)\n",
    "    experiments[\"RF_100\"][\"training_time\"][i] = train_time \n",
    "    print(\"training took {:.2f} seconds\".format(train_time))\n",
    "    \n",
    "    start_infer= time.time()\n",
    "    pred = model.predict(test_samples)\n",
    "    end_infer = time.time()\n",
    "    infer_time = np.round(end_infer-start_infer,decimals=2)\n",
    "    experiments[\"RF_100\"][\"inference_time\"][i] = infer_time\n",
    "    print(\"inference took {:.2f} seconds\".format(infer_time))\n",
    "    \n",
    "    accuracy = np.round(sum((pred-test_labels)==0)/len(test_labels)*100,\n",
    "                        decimals=2)\n",
    "    print(\"test accuracy: {:.2f} percent\".format(accuracy))\n",
    "    experiments[\"RF_100\"][\"accuracy\"][i] = accuracy"
   ]
  },
  {
   "cell_type": "code",
   "execution_count": 7,
   "metadata": {
    "colab": {
     "base_uri": "https://localhost:8080/"
    },
    "id": "d_wz7mojlhVI",
    "outputId": "5998de11-1a3a-4d20-8a5d-110041abad34",
    "tags": [
     "exec"
    ]
   },
   "outputs": [
    {
     "name": "stdout",
     "output_type": "stream",
     "text": [
      "Subset consists of 3000 samples\n",
      "training took 12.93 seconds\n",
      "inference took 1.19 seconds\n",
      "test accuracy: 83.01 percent\n",
      "Subset consists of 6000 samples\n",
      "training took 28.33 seconds\n",
      "inference took 1.35 seconds\n",
      "test accuracy: 84.29 percent\n"
     ]
    }
   ],
   "source": [
    "### code for experiments['RF_500'], just execute\n",
    "for i,n_samples in enumerate(experiments[\"N_samples\"]):\n",
    "    print(\"Subset consists of {} samples\".format(n_samples))\n",
    "    model = RandomForestClassifier(n_estimators=500)\n",
    "    \n",
    "    start_train= time.time()\n",
    "    model.fit(train_samples[:n_samples],train_labels[:n_samples])\n",
    "    end_train = time.time()\n",
    "    train_time = np.round(end_train-start_train,decimals=2)\n",
    "    experiments[\"RF_500\"][\"training_time\"][i] = train_time \n",
    "    print(\"training took {:.2f} seconds\".format(train_time))\n",
    "    \n",
    "    start_infer= time.time()\n",
    "    pred = model.predict(test_samples)\n",
    "    end_infer = time.time()\n",
    "    infer_time = np.round(end_infer-start_infer,decimals=2)\n",
    "    experiments[\"RF_500\"][\"inference_time\"][i] = infer_time\n",
    "    print(\"inference took {:.2f} seconds\".format(infer_time))\n",
    "    \n",
    "    accuracy = np.round(sum((pred-test_labels)==0)/len(test_labels)*100,\n",
    "                        decimals=2)\n",
    "    print(\"test accuracy: {:.2f} percent\".format(accuracy))\n",
    "    experiments[\"RF_500\"][\"accuracy\"][i] = accuracy"
   ]
  },
  {
   "cell_type": "code",
   "execution_count": 8,
   "metadata": {
    "cellView": "both",
    "colab": {
     "base_uri": "https://localhost:8080/"
    },
    "id": "xhoMss4xYLS0",
    "outputId": "2ce571bc-7f36-47c9-b314-2fae05bc3442",
    "tags": [
     "exec"
    ]
   },
   "outputs": [
    {
     "name": "stdout",
     "output_type": "stream",
     "text": [
      "Subset consists of 3000 samples\n",
      "training took 1.18 seconds\n",
      "inference took 11.71 seconds\n",
      "test accuracy: 82.32 percent\n",
      "Subset consists of 6000 samples\n",
      "training took 4.39 seconds\n",
      "inference took 18.41 seconds\n",
      "test accuracy: 84.13 percent\n"
     ]
    }
   ],
   "source": [
    "### code for experiments['SVM'], just execute\n",
    "for i,n_samples in enumerate(experiments[\"N_samples\"]):\n",
    "    print(\"Subset consists of {} samples\".format(n_samples))\n",
    "    model = SVC()\n",
    "    \n",
    "    start_train= time.time()\n",
    "    model.fit(train_samples[:n_samples],train_labels[:n_samples])\n",
    "    end_train = time.time()\n",
    "    train_time = np.round(end_train-start_train,decimals=2)\n",
    "    experiments[\"SVM\"][\"training_time\"][i] = train_time \n",
    "    print(\"training took {:.2f} seconds\".format(train_time))\n",
    "    \n",
    "    start_infer= time.time()\n",
    "    pred = model.predict(test_samples)\n",
    "    end_infer = time.time()\n",
    "    infer_time = np.round(end_infer-start_infer,decimals=2)\n",
    "    experiments[\"SVM\"][\"inference_time\"][i] = infer_time\n",
    "    print(\"inference took {:.2f} seconds\".format(infer_time))\n",
    "    \n",
    "    accuracy = np.round(sum((pred-test_labels)==0)/len(test_labels)*100,\n",
    "                        decimals=2)\n",
    "    print(\"test accuracy: {:.2f} percent\".format(accuracy))\n",
    "    experiments[\"SVM\"][\"accuracy\"][i] = accuracy"
   ]
  },
  {
   "cell_type": "markdown",
   "metadata": {
    "id": "H7WOSvBaDq_A",
    "tags": [
     "text"
    ]
   },
   "source": [
    "Now we want to run similar experiments with four different CNN models. Feel free to experiment with the networks. If running the code takes too long, the relevant data is already stored in the `experiments` dictionary defined 4 cells above.\n",
    "\n",
    "We first provide the training and test routine for the CNNs."
   ]
  },
  {
   "cell_type": "code",
   "execution_count": 9,
   "metadata": {
    "id": "F2zYlWcKDq_A",
    "tags": [
     "exec"
    ]
   },
   "outputs": [],
   "source": [
    "#nothing to do here, just execute\n",
    "def train(model, device, train_loader, optimizer, epoch):\n",
    "    model.train() \n",
    "    correct=0\n",
    "    total = 0\n",
    "    for batch_idx, (data, target) in enumerate(train_loader):\n",
    "        data, target = data.to(device), target.to(device)\n",
    "        optimizer.zero_grad()\n",
    "        output = model(data)\n",
    "        loss = F.nll_loss(output, target)\n",
    "        loss.backward()\n",
    "        optimizer.step()\n",
    "        pred = output.max(1, keepdim=True)[1] # get the index of the max log-probability\n",
    "        correct += pred.eq(target.view_as(pred)).sum().item()\n",
    "        total += target.shape[0]\n",
    "    print('Epoch {} \\nTraining Accuracy: {}/{} ({:.2f}%)'.format(epoch,\n",
    "    correct, total, 100*correct/total \n",
    "    )) \n",
    "    \n",
    "def test(model, device, test_loader):\n",
    "    model.eval()\n",
    "    correct = 0\n",
    "    for data, target in test_loader:\n",
    "        data, target = data.to(device), target.to(device)\n",
    "        output = model(data)\n",
    "        pred = output.max(1, keepdim=True)[1] # get the index of the max log-probability\n",
    "        correct += pred.eq(target.view_as(pred)).sum().item()\n",
    "    accuracy = np.round(100. * correct / len(test_loader.dataset),decimals=2)\n",
    "    print('Test Accuracy: {}/{} ({:.2f}%)'.format(correct, len(test_loader.dataset), accuracy)) \n",
    "    return accuracy"
   ]
  },
  {
   "cell_type": "markdown",
   "metadata": {
    "id": "fw6d1K-DYLS-",
    "tags": [
     "text"
    ]
   },
   "source": [
    "Here we provide a routine that creates CNN models. It takes as inputs the hyper-parameters of the CNNs. It's not necessary to fully understand this routine at this stage, as this will be a main topic in further courses (e.g. Deep Learning 1&2)."
   ]
  },
  {
   "cell_type": "code",
   "execution_count": 10,
   "metadata": {
    "id": "_NRK1hMDDq_C",
    "tags": [
     "exec"
    ]
   },
   "outputs": [],
   "source": [
    "#nothing to do here, just execute\n",
    "class Net(nn.Module):\n",
    "    def __init__(self,use_batch_norm=True,n_blocks=3,n_layers=3,channels = 32, multiply_channels=2, global_max = True):\n",
    "        super(Net, self).__init__(),\n",
    "        self.use_batch_norm = use_batch_norm\n",
    "        self.n_blocks = n_blocks\n",
    "        self.n_layers = n_layers\n",
    "        self.channels = channels\n",
    "        self.multiply_channels = multiply_channels\n",
    "        self.global_max = global_max\n",
    "\n",
    "        ## feature extraction CNN => linear layer (N_cannels to N_classes) => softmax\n",
    "        self.cnn_module = self.build_model() \n",
    "        self.fc_module = nn.Sequential(\n",
    "            nn.Linear(channels*multiply_channels**(n_blocks-1), 10)) \n",
    "        \n",
    "    def build_model(self):\n",
    "        channels_per_layer = [1,self.channels]\n",
    "        for i in range(1,self.n_blocks):\n",
    "            channels_per_layer.append(self.channels*self.multiply_channels**i)   \n",
    "        \n",
    "        components = []\n",
    "        for i in range(self.n_blocks):\n",
    "            for j in range(self.n_layers):\n",
    "                if j== 0:\n",
    "                    cur_dims = [channels_per_layer[i],channels_per_layer[i+1]]   ## first layer of the block\n",
    "                else: \n",
    "                    cur_dims = [channels_per_layer[i+1],channels_per_layer[i+1]]\n",
    "\n",
    "                if self.use_batch_norm:        ## no bias needed\n",
    "                    components.append(\n",
    "                        nn.Sequential(nn.Conv2d(cur_dims[0], cur_dims[1], kernel_size = 3,padding=1,bias=False),\n",
    "                                     nn.BatchNorm2d(cur_dims[1], momentum=0.1),\n",
    "                                     nn.ReLU()\n",
    "                                     )\n",
    "                    )\n",
    "                else:                          \n",
    "                    components.append(\n",
    "                        nn.Sequential(nn.Conv2d(cur_dims[0], cur_dims[1], kernel_size = 3,padding=1),\n",
    "                                     nn.ReLU()\n",
    "                                     )\n",
    "                    )\n",
    "            if i == self.n_blocks-1:\n",
    "                if self.global_max:\n",
    "                    components.append(nn.Sequential(nn.AdaptiveMaxPool2d(1)))    ## finish with a global max pooling layer\n",
    "                else:\n",
    "                    components.append(nn.Sequential(nn.AdaptiveAvgPool2d(1)))    ## finish with a global average pooling layer\n",
    "            else: \n",
    "                components.append(nn.Sequential(nn.MaxPool2d(2, stride = 2)))    ## downsampling via max_pooling of stride 2\n",
    "        return nn.Sequential(*components)\n",
    "        \n",
    "    def forward(self, x):   \n",
    "        x = self.cnn_module(x)    \n",
    "        x = x.view(x.size(0), -1) \n",
    "        x = self.fc_module(x)     \n",
    "        return F.log_softmax(x, dim=1)"
   ]
  },
  {
   "cell_type": "markdown",
   "metadata": {
    "id": "j9gtHy6_YLTE",
    "tags": [
     "text"
    ]
   },
   "source": [
    "Now let us run the different CNN models for the different sizes of the data sets.\n",
    "You should run the experiments with the following four CNN models:\n",
    "- a simple CNN with average pooling, called \"CNN_simple\"\n",
    "- a wide CNN with average pooling, called \"CNN_wide\"\n",
    "- a deep CNN with average pooling, called \"CNN_deep\"\n",
    "- a wide CNN with max pooling, called \"CNN_wide_max\"\n",
    "\n",
    "This is done now in a similar fashion as for the sklearn methods. Again accuracy, training time, and test time are stored in the experiments dictionary for the different sizes of the data sets. The number of trainable parameters for each of the four different CNNs is printed in the begining of the training loop of the corresponding model. This should allow you to get a rough idea of the complexities of these models."
   ]
  },
  {
   "cell_type": "code",
   "execution_count": 22,
   "metadata": {
    "colab": {
     "base_uri": "https://localhost:8080/"
    },
    "id": "kAHUquqsDq_I",
    "outputId": "807fb362-c811-4e12-f875-0f41a7b1eb91",
    "scrolled": true,
    "tags": [
     "exec"
    ]
   },
   "outputs": [
    {
     "name": "stdout",
     "output_type": "stream",
     "text": [
      "Net(\n",
      "  (cnn_module): Sequential(\n",
      "    (0): Sequential(\n",
      "      (0): Conv2d(1, 16, kernel_size=(3, 3), stride=(1, 1), padding=(1, 1), bias=False)\n",
      "      (1): BatchNorm2d(16, eps=1e-05, momentum=0.1, affine=True, track_running_stats=True)\n",
      "      (2): ReLU()\n",
      "    )\n",
      "    (1): Sequential(\n",
      "      (0): MaxPool2d(kernel_size=2, stride=2, padding=0, dilation=1, ceil_mode=False)\n",
      "    )\n",
      "    (2): Sequential(\n",
      "      (0): Conv2d(16, 16, kernel_size=(3, 3), stride=(1, 1), padding=(1, 1), bias=False)\n",
      "      (1): BatchNorm2d(16, eps=1e-05, momentum=0.1, affine=True, track_running_stats=True)\n",
      "      (2): ReLU()\n",
      "    )\n",
      "    (3): Sequential(\n",
      "      (0): MaxPool2d(kernel_size=2, stride=2, padding=0, dilation=1, ceil_mode=False)\n",
      "    )\n",
      "    (4): Sequential(\n",
      "      (0): Conv2d(16, 16, kernel_size=(3, 3), stride=(1, 1), padding=(1, 1), bias=False)\n",
      "      (1): BatchNorm2d(16, eps=1e-05, momentum=0.1, affine=True, track_running_stats=True)\n",
      "      (2): ReLU()\n",
      "    )\n",
      "    (5): Sequential(\n",
      "      (0): AdaptiveAvgPool2d(output_size=1)\n",
      "    )\n",
      "  )\n",
      "  (fc_module): Sequential(\n",
      "    (0): Linear(in_features=16, out_features=10, bias=True)\n",
      "  )\n",
      ")\n",
      "\n",
      "The model has 5018 parameters\n",
      "\n",
      "Subset consists of 3000 samples\n",
      "Epoch 1 \n",
      "Training Accuracy: 934/3000 (31.13%)\n",
      "epoch took 0.85 seconds\n",
      "Test Accuracy: 3364/10000 (33.64%)\n",
      "inference took 2.01 seconds\n",
      "Epoch 2 \n",
      "Training Accuracy: 1465/3000 (48.83%)\n",
      "epoch took 0.98 seconds\n",
      "Test Accuracy: 5325/10000 (53.25%)\n",
      "inference took 2.58 seconds\n",
      "Epoch 3 \n",
      "Training Accuracy: 1742/3000 (58.07%)\n",
      "epoch took 0.86 seconds\n",
      "Test Accuracy: 5887/10000 (58.87%)\n",
      "inference took 2.02 seconds\n",
      "Epoch 4 \n",
      "Training Accuracy: 1915/3000 (63.83%)\n",
      "epoch took 0.87 seconds\n",
      "Test Accuracy: 6114/10000 (61.14%)\n",
      "inference took 2.24 seconds\n",
      "Epoch 5 \n",
      "Training Accuracy: 2069/3000 (68.97%)\n",
      "epoch took 0.97 seconds\n",
      "Test Accuracy: 6976/10000 (69.76%)\n",
      "inference took 2.09 seconds\n",
      "finished CNN_simple with 3000\n",
      "accuracy [63.26 72.23 76.91 78.55 82.07]\n",
      "training_time [ 4.53  8.55 20.11 42.37 80.7 ]\n",
      "inference_time [2.19 2.29 2.2  2.24 2.3 ]\n",
      "\n",
      "Subset consists of 6000 samples\n",
      "Epoch 1 \n",
      "Training Accuracy: 2322/6000 (38.70%)\n",
      "epoch took 2.13 seconds\n",
      "Test Accuracy: 5180/10000 (51.80%)\n",
      "inference took 2.12 seconds\n",
      "Epoch 2 \n",
      "Training Accuracy: 3673/6000 (61.22%)\n",
      "epoch took 1.68 seconds\n",
      "Test Accuracy: 6353/10000 (63.53%)\n",
      "inference took 2.04 seconds\n",
      "Epoch 3 \n",
      "Training Accuracy: 4167/6000 (69.45%)\n",
      "epoch took 1.60 seconds\n",
      "Test Accuracy: 6814/10000 (68.14%)\n",
      "inference took 2.02 seconds\n",
      "Epoch 4 \n",
      "Training Accuracy: 4395/6000 (73.25%)\n",
      "epoch took 1.91 seconds\n",
      "Test Accuracy: 7221/10000 (72.21%)\n",
      "inference took 2.33 seconds\n",
      "Epoch 5 \n",
      "Training Accuracy: 4518/6000 (75.30%)\n",
      "epoch took 1.60 seconds\n",
      "Test Accuracy: 7208/10000 (72.08%)\n",
      "inference took 2.08 seconds\n",
      "finished CNN_simple with 6000\n",
      "accuracy [63.26 70.81 76.91 78.55 82.07]\n",
      "training_time [ 4.53  8.92 20.11 42.37 80.7 ]\n",
      "inference_time [2.19 2.12 2.2  2.24 2.3 ]\n",
      "\n",
      "Subset consists of 15000 samples\n",
      "Epoch 1 \n",
      "Training Accuracy: 7086/15000 (47.24%)\n",
      "epoch took 3.93 seconds\n",
      "Test Accuracy: 6514/10000 (65.14%)\n",
      "inference took 2.49 seconds\n",
      "Epoch 2 \n",
      "Training Accuracy: 10655/15000 (71.03%)\n",
      "epoch took 4.20 seconds\n",
      "Test Accuracy: 7265/10000 (72.65%)\n",
      "inference took 2.10 seconds\n",
      "Epoch 3 \n",
      "Training Accuracy: 11338/15000 (75.59%)\n",
      "epoch took 3.96 seconds\n",
      "Test Accuracy: 7386/10000 (73.86%)\n",
      "inference took 2.70 seconds\n",
      "Epoch 4 \n",
      "Training Accuracy: 11778/15000 (78.52%)\n",
      "epoch took 4.05 seconds\n",
      "Test Accuracy: 7359/10000 (73.59%)\n",
      "inference took 2.13 seconds\n",
      "Epoch 5 \n",
      "Training Accuracy: 12033/15000 (80.22%)\n",
      "epoch took 4.28 seconds\n",
      "Test Accuracy: 7847/10000 (78.47%)\n",
      "inference took 2.56 seconds\n",
      "finished CNN_simple with 15000\n",
      "accuracy [63.26 70.81 75.31 78.55 82.07]\n",
      "training_time [ 4.53  8.92 20.42 42.37 80.7 ]\n",
      "inference_time [2.19 2.12 2.4  2.24 2.3 ]\n",
      "\n",
      "Subset consists of 30000 samples\n",
      "Epoch 1 \n",
      "Training Accuracy: 18085/30000 (60.28%)\n",
      "epoch took 7.96 seconds\n",
      "Test Accuracy: 7403/10000 (74.03%)\n",
      "inference took 2.49 seconds\n",
      "Epoch 2 \n",
      "Training Accuracy: 23017/30000 (76.72%)\n",
      "epoch took 7.99 seconds\n",
      "Test Accuracy: 7846/10000 (78.46%)\n",
      "inference took 2.06 seconds\n",
      "Epoch 3 \n",
      "Training Accuracy: 23892/30000 (79.64%)\n",
      "epoch took 8.33 seconds\n",
      "Test Accuracy: 7752/10000 (77.52%)\n",
      "inference took 2.03 seconds\n",
      "Epoch 4 \n",
      "Training Accuracy: 24603/30000 (82.01%)\n",
      "epoch took 8.55 seconds\n",
      "Test Accuracy: 8166/10000 (81.66%)\n",
      "inference took 2.05 seconds\n",
      "Epoch 5 \n",
      "Training Accuracy: 25069/30000 (83.56%)\n",
      "epoch took 8.52 seconds\n",
      "Test Accuracy: 7998/10000 (79.98%)\n",
      "inference took 2.01 seconds\n",
      "finished CNN_simple with 30000\n",
      "accuracy [63.26 70.81 75.31 79.72 82.07]\n",
      "training_time [ 4.53  8.92 20.42 41.35 80.7 ]\n",
      "inference_time [2.19 2.12 2.4  2.13 2.3 ]\n",
      "\n",
      "Subset consists of 60000 samples\n",
      "Epoch 1 \n",
      "Training Accuracy: 42316/60000 (70.53%)\n",
      "epoch took 16.19 seconds\n",
      "Test Accuracy: 7718/10000 (77.18%)\n",
      "inference took 2.05 seconds\n",
      "Epoch 2 \n",
      "Training Accuracy: 48814/60000 (81.36%)\n",
      "epoch took 16.60 seconds\n",
      "Test Accuracy: 7739/10000 (77.39%)\n",
      "inference took 2.12 seconds\n",
      "Epoch 3 \n",
      "Training Accuracy: 50251/60000 (83.75%)\n",
      "epoch took 16.46 seconds\n",
      "Test Accuracy: 7717/10000 (77.17%)\n",
      "inference took 2.16 seconds\n",
      "Epoch 4 \n",
      "Training Accuracy: 51154/60000 (85.26%)\n",
      "epoch took 16.46 seconds\n",
      "Test Accuracy: 8379/10000 (83.79%)\n",
      "inference took 2.16 seconds\n",
      "Epoch 5 \n",
      "Training Accuracy: 51654/60000 (86.09%)\n",
      "epoch took 15.96 seconds\n",
      "Test Accuracy: 8556/10000 (85.56%)\n",
      "inference took 2.28 seconds\n",
      "finished CNN_simple with 60000\n",
      "accuracy [63.26 70.81 75.31 79.72 82.17]\n",
      "training_time [ 4.53  8.92 20.42 41.35 81.67]\n",
      "inference_time [2.19 2.12 2.4  2.13 2.15]\n",
      "\n",
      "Net(\n",
      "  (cnn_module): Sequential(\n",
      "    (0): Sequential(\n",
      "      (0): Conv2d(1, 32, kernel_size=(3, 3), stride=(1, 1), padding=(1, 1), bias=False)\n",
      "      (1): BatchNorm2d(32, eps=1e-05, momentum=0.1, affine=True, track_running_stats=True)\n",
      "      (2): ReLU()\n",
      "    )\n",
      "    (1): Sequential(\n",
      "      (0): MaxPool2d(kernel_size=2, stride=2, padding=0, dilation=1, ceil_mode=False)\n",
      "    )\n",
      "    (2): Sequential(\n",
      "      (0): Conv2d(32, 64, kernel_size=(3, 3), stride=(1, 1), padding=(1, 1), bias=False)\n",
      "      (1): BatchNorm2d(64, eps=1e-05, momentum=0.1, affine=True, track_running_stats=True)\n",
      "      (2): ReLU()\n",
      "    )\n",
      "    (3): Sequential(\n",
      "      (0): MaxPool2d(kernel_size=2, stride=2, padding=0, dilation=1, ceil_mode=False)\n",
      "    )\n",
      "    (4): Sequential(\n",
      "      (0): Conv2d(64, 128, kernel_size=(3, 3), stride=(1, 1), padding=(1, 1), bias=False)\n",
      "      (1): BatchNorm2d(128, eps=1e-05, momentum=0.1, affine=True, track_running_stats=True)\n",
      "      (2): ReLU()\n",
      "    )\n",
      "    (5): Sequential(\n",
      "      (0): AdaptiveAvgPool2d(output_size=1)\n",
      "    )\n",
      "  )\n",
      "  (fc_module): Sequential(\n",
      "    (0): Linear(in_features=128, out_features=10, bias=True)\n",
      "  )\n",
      ")\n",
      "\n",
      "The model has 94186 parameters\n",
      "\n",
      "Subset consists of 3000 samples\n",
      "Epoch 1 \n",
      "Training Accuracy: 1774/3000 (59.13%)\n",
      "epoch took 1.19 seconds\n",
      "Test Accuracy: 6676/10000 (66.76%)\n",
      "inference took 2.14 seconds\n",
      "Epoch 2 \n",
      "Training Accuracy: 2196/3000 (73.20%)\n",
      "epoch took 0.85 seconds\n",
      "Test Accuracy: 7263/10000 (72.63%)\n",
      "inference took 2.01 seconds\n",
      "Epoch 3 \n",
      "Training Accuracy: 2317/3000 (77.23%)\n",
      "epoch took 0.87 seconds\n",
      "Test Accuracy: 6997/10000 (69.97%)\n",
      "inference took 2.04 seconds\n",
      "Epoch 4 \n",
      "Training Accuracy: 2401/3000 (80.03%)\n",
      "epoch took 0.92 seconds\n",
      "Test Accuracy: 7261/10000 (72.61%)\n",
      "inference took 2.39 seconds\n",
      "Epoch 5 \n",
      "Training Accuracy: 2430/3000 (81.00%)\n",
      "epoch took 1.21 seconds\n",
      "Test Accuracy: 7304/10000 (73.04%)\n",
      "inference took 2.09 seconds\n",
      "finished CNN_wide with 3000\n",
      "accuracy [71.87 79.77 84.83 86.7  90.48]\n",
      "training_time [  5.04   9.4   40.6   81.93 160.84]\n",
      "inference_time [2.13 2.13 1.32 1.33 1.35]\n",
      "\n",
      "Subset consists of 6000 samples\n",
      "Epoch 1 \n",
      "Training Accuracy: 3921/6000 (65.35%)\n",
      "epoch took 1.66 seconds\n",
      "Test Accuracy: 7260/10000 (72.60%)\n",
      "inference took 2.05 seconds\n",
      "Epoch 2 \n",
      "Training Accuracy: 4703/6000 (78.38%)\n",
      "epoch took 1.65 seconds\n",
      "Test Accuracy: 7119/10000 (71.19%)\n",
      "inference took 2.04 seconds\n",
      "Epoch 3 \n",
      "Training Accuracy: 4854/6000 (80.90%)\n",
      "epoch took 2.08 seconds\n",
      "Test Accuracy: 6794/10000 (67.94%)\n",
      "inference took 2.24 seconds\n",
      "Epoch 4 \n",
      "Training Accuracy: 5020/6000 (83.67%)\n",
      "epoch took 1.71 seconds\n",
      "Test Accuracy: 7704/10000 (77.04%)\n",
      "inference took 2.08 seconds\n",
      "Epoch 5 \n",
      "Training Accuracy: 5097/6000 (84.95%)\n",
      "epoch took 1.63 seconds\n",
      "Test Accuracy: 7705/10000 (77.05%)\n",
      "inference took 2.06 seconds\n",
      "finished CNN_wide with 6000\n",
      "accuracy [71.87 74.01 84.83 86.7  90.48]\n",
      "training_time [  5.04   8.73  40.6   81.93 160.84]\n",
      "inference_time [2.13 2.09 1.32 1.33 1.35]\n",
      "\n",
      "Subset consists of 15000 samples\n",
      "Epoch 1 \n",
      "Training Accuracy: 10952/15000 (73.01%)\n",
      "epoch took 4.62 seconds\n",
      "Test Accuracy: 7275/10000 (72.75%)\n",
      "inference took 2.14 seconds\n",
      "Epoch 2 \n",
      "Training Accuracy: 12366/15000 (82.44%)\n",
      "epoch took 4.04 seconds\n",
      "Test Accuracy: 7184/10000 (71.84%)\n",
      "inference took 1.99 seconds\n",
      "Epoch 3 \n",
      "Training Accuracy: 12779/15000 (85.19%)\n",
      "epoch took 4.63 seconds\n",
      "Test Accuracy: 8116/10000 (81.16%)\n",
      "inference took 2.12 seconds\n",
      "Epoch 4 \n",
      "Training Accuracy: 12881/15000 (85.87%)\n",
      "epoch took 3.93 seconds\n",
      "Test Accuracy: 7487/10000 (74.87%)\n",
      "inference took 2.19 seconds\n",
      "Epoch 5 \n",
      "Training Accuracy: 13130/15000 (87.53%)\n",
      "epoch took 4.46 seconds\n",
      "Test Accuracy: 8045/10000 (80.45%)\n",
      "inference took 2.07 seconds\n",
      "finished CNN_wide with 15000\n",
      "accuracy [71.87 74.01 78.83 86.7  90.48]\n",
      "training_time [  5.04   8.73  21.68  81.93 160.84]\n",
      "inference_time [2.13 2.09 2.1  1.33 1.35]\n",
      "\n",
      "Subset consists of 30000 samples\n",
      "Epoch 1 \n",
      "Training Accuracy: 23240/30000 (77.47%)\n",
      "epoch took 8.64 seconds\n",
      "Test Accuracy: 7751/10000 (77.51%)\n",
      "inference took 2.05 seconds\n",
      "Epoch 2 \n",
      "Training Accuracy: 25495/30000 (84.98%)\n",
      "epoch took 8.28 seconds\n",
      "Test Accuracy: 8229/10000 (82.29%)\n",
      "inference took 2.28 seconds\n",
      "Epoch 3 \n",
      "Training Accuracy: 26241/30000 (87.47%)\n",
      "epoch took 7.99 seconds\n",
      "Test Accuracy: 8392/10000 (83.92%)\n",
      "inference took 2.71 seconds\n",
      "Epoch 4 \n",
      "Training Accuracy: 26462/30000 (88.21%)\n",
      "epoch took 8.00 seconds\n",
      "Test Accuracy: 8674/10000 (86.74%)\n",
      "inference took 2.16 seconds\n",
      "Epoch 5 \n",
      "Training Accuracy: 26721/30000 (89.07%)\n",
      "epoch took 8.32 seconds\n",
      "Test Accuracy: 7973/10000 (79.73%)\n",
      "inference took 2.04 seconds\n",
      "finished CNN_wide with 30000\n",
      "accuracy [71.87 74.01 78.83 83.46 90.48]\n",
      "training_time [  5.04   8.73  21.68  41.23 160.84]\n",
      "inference_time [2.13 2.09 2.1  2.25 1.35]\n",
      "\n",
      "Subset consists of 60000 samples\n",
      "Epoch 1 \n",
      "Training Accuracy: 48309/60000 (80.52%)\n",
      "epoch took 17.02 seconds\n",
      "Test Accuracy: 8347/10000 (83.47%)\n",
      "inference took 2.03 seconds\n",
      "Epoch 2 \n",
      "Training Accuracy: 52498/60000 (87.50%)\n",
      "epoch took 16.21 seconds\n",
      "Test Accuracy: 8495/10000 (84.95%)\n",
      "inference took 2.00 seconds\n",
      "Epoch 3 \n",
      "Training Accuracy: 53522/60000 (89.20%)\n",
      "epoch took 16.96 seconds\n",
      "Test Accuracy: 8725/10000 (87.25%)\n",
      "inference took 2.01 seconds\n",
      "Epoch 4 \n",
      "Training Accuracy: 53952/60000 (89.92%)\n",
      "epoch took 16.25 seconds\n",
      "Test Accuracy: 8816/10000 (88.16%)\n",
      "inference took 2.06 seconds\n",
      "Epoch 5 \n",
      "Training Accuracy: 54402/60000 (90.67%)\n",
      "epoch took 16.85 seconds\n",
      "Test Accuracy: 8829/10000 (88.29%)\n",
      "inference took 2.07 seconds\n",
      "finished CNN_wide with 60000\n",
      "accuracy [71.87 74.01 78.83 83.46 87.9 ]\n",
      "training_time [ 5.04  8.73 21.68 41.23 83.29]\n",
      "inference_time [2.13 2.09 2.1  2.25 2.03]\n",
      "\n",
      "Net(\n",
      "  (cnn_module): Sequential(\n",
      "    (0): Sequential(\n",
      "      (0): Conv2d(1, 16, kernel_size=(3, 3), stride=(1, 1), padding=(1, 1), bias=False)\n",
      "      (1): BatchNorm2d(16, eps=1e-05, momentum=0.1, affine=True, track_running_stats=True)\n",
      "      (2): ReLU()\n",
      "    )\n",
      "    (1): Sequential(\n",
      "      (0): Conv2d(16, 16, kernel_size=(3, 3), stride=(1, 1), padding=(1, 1), bias=False)\n",
      "      (1): BatchNorm2d(16, eps=1e-05, momentum=0.1, affine=True, track_running_stats=True)\n",
      "      (2): ReLU()\n",
      "    )\n",
      "    (2): Sequential(\n",
      "      (0): Conv2d(16, 16, kernel_size=(3, 3), stride=(1, 1), padding=(1, 1), bias=False)\n",
      "      (1): BatchNorm2d(16, eps=1e-05, momentum=0.1, affine=True, track_running_stats=True)\n",
      "      (2): ReLU()\n",
      "    )\n",
      "    (3): Sequential(\n",
      "      (0): MaxPool2d(kernel_size=2, stride=2, padding=0, dilation=1, ceil_mode=False)\n",
      "    )\n",
      "    (4): Sequential(\n",
      "      (0): Conv2d(16, 16, kernel_size=(3, 3), stride=(1, 1), padding=(1, 1), bias=False)\n",
      "      (1): BatchNorm2d(16, eps=1e-05, momentum=0.1, affine=True, track_running_stats=True)\n",
      "      (2): ReLU()\n",
      "    )\n",
      "    (5): Sequential(\n",
      "      (0): Conv2d(16, 16, kernel_size=(3, 3), stride=(1, 1), padding=(1, 1), bias=False)\n",
      "      (1): BatchNorm2d(16, eps=1e-05, momentum=0.1, affine=True, track_running_stats=True)\n",
      "      (2): ReLU()\n",
      "    )\n",
      "    (6): Sequential(\n",
      "      (0): Conv2d(16, 16, kernel_size=(3, 3), stride=(1, 1), padding=(1, 1), bias=False)\n",
      "      (1): BatchNorm2d(16, eps=1e-05, momentum=0.1, affine=True, track_running_stats=True)\n",
      "      (2): ReLU()\n",
      "    )\n",
      "    (7): Sequential(\n",
      "      (0): MaxPool2d(kernel_size=2, stride=2, padding=0, dilation=1, ceil_mode=False)\n",
      "    )\n",
      "    (8): Sequential(\n",
      "      (0): Conv2d(16, 16, kernel_size=(3, 3), stride=(1, 1), padding=(1, 1), bias=False)\n",
      "      (1): BatchNorm2d(16, eps=1e-05, momentum=0.1, affine=True, track_running_stats=True)\n",
      "      (2): ReLU()\n",
      "    )\n",
      "    (9): Sequential(\n",
      "      (0): Conv2d(16, 16, kernel_size=(3, 3), stride=(1, 1), padding=(1, 1), bias=False)\n",
      "      (1): BatchNorm2d(16, eps=1e-05, momentum=0.1, affine=True, track_running_stats=True)\n",
      "      (2): ReLU()\n",
      "    )\n",
      "    (10): Sequential(\n",
      "      (0): Conv2d(16, 16, kernel_size=(3, 3), stride=(1, 1), padding=(1, 1), bias=False)\n",
      "      (1): BatchNorm2d(16, eps=1e-05, momentum=0.1, affine=True, track_running_stats=True)\n",
      "      (2): ReLU()\n",
      "    )\n",
      "    (11): Sequential(\n",
      "      (0): AdaptiveAvgPool2d(output_size=1)\n",
      "    )\n",
      "  )\n",
      "  (fc_module): Sequential(\n",
      "    (0): Linear(in_features=16, out_features=10, bias=True)\n",
      "  )\n",
      ")\n",
      "\n",
      "The model has 19034 parameters\n",
      "\n",
      "Subset consists of 3000 samples\n",
      "Epoch 1 \n",
      "Training Accuracy: 823/3000 (27.43%)\n",
      "epoch took 1.04 seconds\n",
      "Test Accuracy: 4406/10000 (44.06%)\n",
      "inference took 2.13 seconds\n",
      "Epoch 2 \n",
      "Training Accuracy: 1813/3000 (60.43%)\n",
      "epoch took 1.08 seconds\n",
      "Test Accuracy: 6203/10000 (62.03%)\n",
      "inference took 2.39 seconds\n",
      "Epoch 3 \n",
      "Training Accuracy: 2197/3000 (73.23%)\n",
      "epoch took 1.43 seconds\n",
      "Test Accuracy: 7561/10000 (75.61%)\n",
      "inference took 2.30 seconds\n",
      "Epoch 4 \n",
      "Training Accuracy: 2302/3000 (76.73%)\n",
      "epoch took 1.07 seconds\n",
      "Test Accuracy: 7690/10000 (76.90%)\n",
      "inference took 2.23 seconds\n",
      "Epoch 5 \n",
      "Training Accuracy: 2384/3000 (79.47%)\n",
      "epoch took 1.06 seconds\n",
      "Test Accuracy: 7269/10000 (72.69%)\n",
      "inference took 2.07 seconds\n",
      "finished CNN_deep with 3000\n",
      "accuracy [75.07 77.97 88.95 90.08 91.86]\n",
      "training_time [  5.68  10.45  42.48  82.38 162.91]\n",
      "inference_time [2.22 2.35 1.34 1.31 1.32]\n",
      "\n",
      "Subset consists of 6000 samples\n",
      "Epoch 1 \n",
      "Training Accuracy: 2959/6000 (49.32%)\n",
      "epoch took 2.28 seconds\n",
      "Test Accuracy: 6541/10000 (65.41%)\n",
      "inference took 2.53 seconds\n",
      "Epoch 2 \n",
      "Training Accuracy: 4395/6000 (73.25%)\n",
      "epoch took 2.00 seconds\n",
      "Test Accuracy: 7233/10000 (72.33%)\n",
      "inference took 2.09 seconds\n",
      "Epoch 3 \n",
      "Training Accuracy: 4644/6000 (77.40%)\n",
      "epoch took 1.99 seconds\n",
      "Test Accuracy: 7059/10000 (70.59%)\n",
      "inference took 2.11 seconds\n",
      "Epoch 4 \n",
      "Training Accuracy: 4870/6000 (81.17%)\n",
      "epoch took 2.46 seconds\n",
      "Test Accuracy: 7792/10000 (77.92%)\n",
      "inference took 2.32 seconds\n",
      "Epoch 5 \n",
      "Training Accuracy: 4950/6000 (82.50%)\n",
      "epoch took 2.04 seconds\n",
      "Test Accuracy: 8060/10000 (80.60%)\n",
      "inference took 2.13 seconds\n",
      "finished CNN_deep with 6000\n",
      "accuracy [75.07 76.37 88.95 90.08 91.86]\n",
      "training_time [  5.68  10.77  42.48  82.38 162.91]\n",
      "inference_time [2.22 2.24 1.34 1.31 1.32]\n",
      "\n",
      "Subset consists of 15000 samples\n",
      "Epoch 1 \n",
      "Training Accuracy: 9721/15000 (64.81%)\n",
      "epoch took 5.24 seconds\n",
      "Test Accuracy: 7638/10000 (76.38%)\n",
      "inference took 2.52 seconds\n",
      "Epoch 2 \n",
      "Training Accuracy: 12188/15000 (81.25%)\n",
      "epoch took 5.04 seconds\n",
      "Test Accuracy: 8207/10000 (82.07%)\n",
      "inference took 2.15 seconds\n",
      "Epoch 3 \n",
      "Training Accuracy: 12778/15000 (85.19%)\n",
      "epoch took 5.51 seconds\n",
      "Test Accuracy: 8415/10000 (84.15%)\n",
      "inference took 2.20 seconds\n",
      "Epoch 4 \n",
      "Training Accuracy: 13063/15000 (87.09%)\n",
      "epoch took 4.90 seconds\n",
      "Test Accuracy: 8512/10000 (85.12%)\n",
      "inference took 2.68 seconds\n",
      "Epoch 5 \n",
      "Training Accuracy: 13198/15000 (87.99%)\n",
      "epoch took 5.08 seconds\n",
      "Test Accuracy: 8649/10000 (86.49%)\n",
      "inference took 2.21 seconds\n",
      "finished CNN_deep with 15000\n",
      "accuracy [75.07 76.37 85.25 90.08 91.86]\n",
      "training_time [  5.68  10.77  25.77  82.38 162.91]\n",
      "inference_time [2.22 2.24 2.35 1.31 1.32]\n",
      "\n",
      "Subset consists of 30000 samples\n",
      "Epoch 1 \n",
      "Training Accuracy: 20805/30000 (69.35%)\n",
      "epoch took 10.36 seconds\n",
      "Test Accuracy: 8015/10000 (80.15%)\n",
      "inference took 2.22 seconds\n",
      "Epoch 2 \n",
      "Training Accuracy: 25302/30000 (84.34%)\n",
      "epoch took 10.40 seconds\n",
      "Test Accuracy: 8422/10000 (84.22%)\n",
      "inference took 2.21 seconds\n",
      "Epoch 3 \n",
      "Training Accuracy: 26240/30000 (87.47%)\n",
      "epoch took 10.53 seconds\n",
      "Test Accuracy: 8688/10000 (86.88%)\n",
      "inference took 2.18 seconds\n",
      "Epoch 4 \n",
      "Training Accuracy: 26669/30000 (88.90%)\n",
      "epoch took 10.40 seconds\n",
      "Test Accuracy: 8769/10000 (87.69%)\n",
      "inference took 2.16 seconds\n",
      "Epoch 5 \n",
      "Training Accuracy: 26942/30000 (89.81%)\n",
      "epoch took 10.62 seconds\n",
      "Test Accuracy: 8917/10000 (89.17%)\n",
      "inference took 2.10 seconds\n",
      "finished CNN_deep with 30000\n",
      "accuracy [75.07 76.37 85.25 87.91 91.86]\n",
      "training_time [  5.68  10.77  25.77  52.31 162.91]\n",
      "inference_time [2.22 2.24 2.35 2.17 1.32]\n",
      "\n",
      "Subset consists of 60000 samples\n",
      "Epoch 1 \n",
      "Training Accuracy: 46808/60000 (78.01%)\n",
      "epoch took 20.56 seconds\n",
      "Test Accuracy: 8605/10000 (86.05%)\n",
      "inference took 2.15 seconds\n",
      "Epoch 2 \n",
      "Training Accuracy: 52964/60000 (88.27%)\n",
      "epoch took 20.77 seconds\n",
      "Test Accuracy: 8857/10000 (88.57%)\n",
      "inference took 2.21 seconds\n",
      "Epoch 3 \n",
      "Training Accuracy: 53933/60000 (89.89%)\n",
      "epoch took 20.86 seconds\n",
      "Test Accuracy: 8492/10000 (84.92%)\n",
      "inference took 2.11 seconds\n",
      "Epoch 4 \n",
      "Training Accuracy: 54348/60000 (90.58%)\n",
      "epoch took 21.16 seconds\n",
      "Test Accuracy: 8890/10000 (88.90%)\n",
      "inference took 2.15 seconds\n",
      "Epoch 5 \n",
      "Training Accuracy: 54811/60000 (91.35%)\n",
      "epoch took 20.29 seconds\n",
      "Test Accuracy: 9032/10000 (90.32%)\n",
      "inference took 2.62 seconds\n",
      "finished CNN_deep with 60000\n",
      "accuracy [75.07 76.37 85.25 87.91 88.05]\n",
      "training_time [  5.68  10.77  25.77  52.31 103.64]\n",
      "inference_time [2.22 2.24 2.35 2.17 2.25]\n",
      "\n",
      "Net(\n",
      "  (cnn_module): Sequential(\n",
      "    (0): Sequential(\n",
      "      (0): Conv2d(1, 32, kernel_size=(3, 3), stride=(1, 1), padding=(1, 1), bias=False)\n",
      "      (1): BatchNorm2d(32, eps=1e-05, momentum=0.1, affine=True, track_running_stats=True)\n",
      "      (2): ReLU()\n",
      "    )\n",
      "    (1): Sequential(\n",
      "      (0): MaxPool2d(kernel_size=2, stride=2, padding=0, dilation=1, ceil_mode=False)\n",
      "    )\n",
      "    (2): Sequential(\n",
      "      (0): Conv2d(32, 64, kernel_size=(3, 3), stride=(1, 1), padding=(1, 1), bias=False)\n",
      "      (1): BatchNorm2d(64, eps=1e-05, momentum=0.1, affine=True, track_running_stats=True)\n",
      "      (2): ReLU()\n",
      "    )\n",
      "    (3): Sequential(\n",
      "      (0): MaxPool2d(kernel_size=2, stride=2, padding=0, dilation=1, ceil_mode=False)\n",
      "    )\n",
      "    (4): Sequential(\n",
      "      (0): Conv2d(64, 128, kernel_size=(3, 3), stride=(1, 1), padding=(1, 1), bias=False)\n",
      "      (1): BatchNorm2d(128, eps=1e-05, momentum=0.1, affine=True, track_running_stats=True)\n",
      "      (2): ReLU()\n",
      "    )\n",
      "    (5): Sequential(\n",
      "      (0): AdaptiveMaxPool2d(output_size=1)\n",
      "    )\n",
      "  )\n",
      "  (fc_module): Sequential(\n",
      "    (0): Linear(in_features=128, out_features=10, bias=True)\n",
      "  )\n",
      ")\n",
      "\n",
      "The model has 94186 parameters\n",
      "\n",
      "Subset consists of 3000 samples\n",
      "Epoch 1 \n",
      "Training Accuracy: 2044/3000 (68.13%)\n",
      "epoch took 0.89 seconds\n",
      "Test Accuracy: 7701/10000 (77.01%)\n",
      "inference took 2.15 seconds\n",
      "Epoch 2 \n",
      "Training Accuracy: 2486/3000 (82.87%)\n",
      "epoch took 0.99 seconds\n",
      "Test Accuracy: 8143/10000 (81.43%)\n",
      "inference took 2.09 seconds\n",
      "Epoch 3 \n",
      "Training Accuracy: 2597/3000 (86.57%)\n",
      "epoch took 0.89 seconds\n",
      "Test Accuracy: 8327/10000 (83.27%)\n",
      "inference took 2.25 seconds\n",
      "Epoch 4 \n",
      "Training Accuracy: 2666/3000 (88.87%)\n",
      "epoch took 1.23 seconds\n",
      "Test Accuracy: 8310/10000 (83.10%)\n",
      "inference took 2.25 seconds\n",
      "Epoch 5 \n",
      "Training Accuracy: 2719/3000 (90.63%)\n",
      "epoch took 0.88 seconds\n",
      "Test Accuracy: 8546/10000 (85.46%)\n",
      "inference took 2.13 seconds\n",
      "finished CNN_wide_max with 3000\n",
      "accuracy [83.94 85.75 89.57 90.12 91.02]\n",
      "training_time [  4.88   8.46  41.09  82.07 161.16]\n",
      "inference_time [2.17 2.42 1.3  1.36 1.33]\n",
      "\n",
      "Subset consists of 6000 samples\n",
      "Epoch 1 \n",
      "Training Accuracy: 4504/6000 (75.07%)\n",
      "epoch took 1.68 seconds\n",
      "Test Accuracy: 8061/10000 (80.61%)\n",
      "inference took 2.08 seconds\n",
      "Epoch 2 \n",
      "Training Accuracy: 5130/6000 (85.50%)\n",
      "epoch took 1.79 seconds\n",
      "Test Accuracy: 8420/10000 (84.20%)\n",
      "inference took 2.61 seconds\n",
      "Epoch 3 \n",
      "Training Accuracy: 5301/6000 (88.35%)\n",
      "epoch took 1.76 seconds\n",
      "Test Accuracy: 8460/10000 (84.60%)\n",
      "inference took 2.13 seconds\n",
      "Epoch 4 \n",
      "Training Accuracy: 5399/6000 (89.98%)\n",
      "epoch took 1.68 seconds\n",
      "Test Accuracy: 8644/10000 (86.44%)\n",
      "inference took 2.08 seconds\n",
      "Epoch 5 \n",
      "Training Accuracy: 5536/6000 (92.27%)\n",
      "epoch took 1.77 seconds\n",
      "Test Accuracy: 8682/10000 (86.82%)\n",
      "inference took 2.67 seconds\n",
      "finished CNN_wide_max with 6000\n",
      "accuracy [83.94 85.95 89.57 90.12 91.02]\n",
      "training_time [  4.88   8.68  41.09  82.07 161.16]\n",
      "inference_time [2.17 2.31 1.3  1.36 1.33]\n",
      "\n",
      "Subset consists of 15000 samples\n",
      "Epoch 1 \n",
      "Training Accuracy: 12089/15000 (80.59%)\n",
      "epoch took 4.12 seconds\n",
      "Test Accuracy: 8371/10000 (83.71%)\n",
      "inference took 2.06 seconds\n",
      "Epoch 2 \n",
      "Training Accuracy: 13101/15000 (87.34%)\n",
      "epoch took 4.43 seconds\n",
      "Test Accuracy: 8731/10000 (87.31%)\n",
      "inference took 2.35 seconds\n",
      "Epoch 3 \n",
      "Training Accuracy: 13486/15000 (89.91%)\n",
      "epoch took 4.11 seconds\n",
      "Test Accuracy: 8803/10000 (88.03%)\n",
      "inference took 2.10 seconds\n",
      "Epoch 4 \n",
      "Training Accuracy: 13786/15000 (91.91%)\n",
      "epoch took 4.54 seconds\n",
      "Test Accuracy: 8876/10000 (88.76%)\n",
      "inference took 2.17 seconds\n",
      "Epoch 5 \n",
      "Training Accuracy: 13946/15000 (92.97%)\n",
      "epoch took 4.22 seconds\n",
      "Test Accuracy: 8918/10000 (89.18%)\n",
      "inference took 2.14 seconds\n",
      "finished CNN_wide_max with 15000\n",
      "accuracy [83.94 85.95 88.66 90.12 91.02]\n",
      "training_time [  4.88   8.68  21.42  82.07 161.16]\n",
      "inference_time [2.17 2.31 2.16 1.36 1.33]\n",
      "\n",
      "Subset consists of 30000 samples\n",
      "Epoch 1 \n",
      "Training Accuracy: 25129/30000 (83.76%)\n",
      "epoch took 8.55 seconds\n",
      "Test Accuracy: 8660/10000 (86.60%)\n",
      "inference took 2.07 seconds\n",
      "Epoch 2 \n",
      "Training Accuracy: 26783/30000 (89.28%)\n",
      "epoch took 8.64 seconds\n",
      "Test Accuracy: 8824/10000 (88.24%)\n",
      "inference took 2.17 seconds\n",
      "Epoch 3 \n",
      "Training Accuracy: 27312/30000 (91.04%)\n",
      "epoch took 8.62 seconds\n",
      "Test Accuracy: 8928/10000 (89.28%)\n",
      "inference took 2.08 seconds\n",
      "Epoch 4 \n",
      "Training Accuracy: 27794/30000 (92.65%)\n",
      "epoch took 8.54 seconds\n",
      "Test Accuracy: 9056/10000 (90.56%)\n",
      "inference took 2.11 seconds\n",
      "Epoch 5 \n",
      "Training Accuracy: 27943/30000 (93.14%)\n",
      "epoch took 8.26 seconds\n",
      "Test Accuracy: 9000/10000 (90.00%)\n",
      "inference took 2.63 seconds\n",
      "finished CNN_wide_max with 30000\n",
      "accuracy [83.94 85.95 88.66 89.95 91.02]\n",
      "training_time [  4.88   8.68  21.42  42.61 161.16]\n",
      "inference_time [2.17 2.31 2.16 2.21 1.33]\n",
      "\n",
      "Subset consists of 60000 samples\n",
      "Epoch 1 \n",
      "Training Accuracy: 51746/60000 (86.24%)\n",
      "epoch took 16.43 seconds\n",
      "Test Accuracy: 8839/10000 (88.39%)\n",
      "inference took 2.05 seconds\n",
      "Epoch 2 \n",
      "Training Accuracy: 54432/60000 (90.72%)\n",
      "epoch took 17.10 seconds\n",
      "Test Accuracy: 9034/10000 (90.34%)\n",
      "inference took 2.09 seconds\n",
      "Epoch 3 \n",
      "Training Accuracy: 55306/60000 (92.18%)\n",
      "epoch took 16.45 seconds\n",
      "Test Accuracy: 9085/10000 (90.85%)\n",
      "inference took 2.16 seconds\n",
      "Epoch 4 \n",
      "Training Accuracy: 55801/60000 (93.00%)\n",
      "epoch took 17.19 seconds\n",
      "Test Accuracy: 9054/10000 (90.54%)\n",
      "inference took 2.10 seconds\n",
      "Epoch 5 \n",
      "Training Accuracy: 56301/60000 (93.83%)\n",
      "epoch took 16.31 seconds\n",
      "Test Accuracy: 9189/10000 (91.89%)\n",
      "inference took 2.13 seconds\n",
      "finished CNN_wide_max with 60000\n",
      "accuracy [83.94 85.95 88.66 89.95 91.09]\n",
      "training_time [ 4.88  8.68 21.42 42.61 83.48]\n",
      "inference_time [2.17 2.31 2.16 2.21 2.11]\n",
      "\n"
     ]
    },
    {
     "data": {
      "text/plain": [
       "{'percentages': array([0.05, 0.1 , 0.25, 0.5 , 1.  ]),\n",
       " 'N_samples': array([ 3000,  6000, 15000, 30000, 60000]),\n",
       " 'RF_100': {'accuracy': array([82.42, 83.91, 85.67, 86.76, 87.77]),\n",
       "  'training_time': array([ 2.46,  7.77, 13.22, 29.77, 67.63]),\n",
       "  'inference_time': array([0.25, 0.35, 0.32, 0.35, 0.4 ])},\n",
       " 'RF_500': {'accuracy': array([83.01, 84.29, 85.97, 86.97, 87.86]),\n",
       "  'training_time': array([ 12.93,  28.33,  65.26, 148.64, 337.84]),\n",
       "  'inference_time': array([1.19, 1.35, 1.53, 1.72, 1.95])},\n",
       " 'SVM': {'accuracy': array([82.32, 84.13, 86.14, 87.03, 88.28]),\n",
       "  'training_time': array([  1.18,   4.39,  40.43, 130.63, 433.99]),\n",
       "  'inference_time': array([ 11.71,  18.41,  49.58,  88.61, 157.68])},\n",
       " 'CNN_simple': {'accuracy': array([63.26, 70.81, 75.31, 79.72, 82.17]),\n",
       "  'training_time': array([ 4.53,  8.92, 20.42, 41.35, 81.67]),\n",
       "  'inference_time': array([2.19, 2.12, 2.4 , 2.13, 2.15])},\n",
       " 'CNN_wide': {'accuracy': array([71.87, 74.01, 78.83, 83.46, 87.9 ]),\n",
       "  'training_time': array([ 5.04,  8.73, 21.68, 41.23, 83.29]),\n",
       "  'inference_time': array([2.13, 2.09, 2.1 , 2.25, 2.03])},\n",
       " 'CNN_deep': {'accuracy': array([75.07, 76.37, 85.25, 87.91, 88.05]),\n",
       "  'training_time': array([  5.68,  10.77,  25.77,  52.31, 103.64]),\n",
       "  'inference_time': array([2.22, 2.24, 2.35, 2.17, 2.25])},\n",
       " 'CNN_wide_max': {'accuracy': array([83.94, 85.95, 88.66, 89.95, 91.09]),\n",
       "  'training_time': array([ 4.88,  8.68, 21.42, 42.61, 83.48]),\n",
       "  'inference_time': array([2.17, 2.31, 2.16, 2.21, 2.11])}}"
      ]
     },
     "execution_count": 22,
     "metadata": {},
     "output_type": "execute_result"
    }
   ],
   "source": [
    "## nothing to do here, just execute\n",
    "\n",
    "max_epochs = 5\n",
    "experiments[\"N_samples\"] = np.array([3000, 6000, 15000, 30000, 60000])\n",
    "\n",
    "for model_tag in [\"CNN_simple\",\"CNN_wide\",\"CNN_deep\",\"CNN_wide_max\"]:\n",
    "    for i,n_samples in enumerate(experiments[\"N_samples\"]):\n",
    "        if  model_tag == \"CNN_simple\":\n",
    "            ## a simple 'CNN with 3 layers with 16 channels each\n",
    "            model = Net(use_batch_norm=True,n_blocks=3,n_layers=1,channels = 16, multiply_channels=1,global_max=False).to(device)  ## simple\n",
    "        elif model_tag == \"CNN_wide\":\n",
    "            ## a wider version with 3 layers with 16,32 and 64 channels\n",
    "            model = Net(use_batch_norm=True,n_blocks=3,n_layers=1,channels = 32, multiply_channels=2,global_max=False).to(device)  ## wide\n",
    "        elif model_tag == \"CNN_deep\":\n",
    "            ## a deeper version with 9 layers with 16 channels each\n",
    "            model = Net(use_batch_norm=True,n_blocks=3,n_layers=3,channels = 16, multiply_channels=1,global_max=False).to(device)  ## deep\n",
    "        elif model_tag == \"CNN_wide_max\":\n",
    "            ## a wider version with 3 layers with 16, 32 and 64 channels, global maximum pooling\n",
    "            model = Net(use_batch_norm=True,n_blocks=3,n_layers=1,channels = 32, multiply_channels=2,global_max=True).to(device)  ## wide       \n",
    "\n",
    "        optimizer = optim.Adam(model.parameters())\n",
    "        sampler = get_sampler(experiments[\"N_samples\"][i])\n",
    "        train_loader = get_data_loader(use_cuda,64,train=True,sampler=sampler)\n",
    "        test_loader = get_data_loader(use_cuda,128,train=False)\n",
    "\n",
    "        if i == 0:\n",
    "            print(model)\n",
    "            print(\"\\nThe model has {} parameters\\n\".format(sum(p.numel() for p in model.parameters())))\n",
    "            \n",
    "        print(\"Subset consists of {} samples\".format(n_samples))\n",
    "        epoch_times = []\n",
    "        infer_times = []\n",
    "        accuracies = []\n",
    "        for epoch in range(1,max_epochs+1):\n",
    "            start_epoch=time.time()\n",
    "            train(model, device, train_loader, optimizer, epoch)\n",
    "            end_epoch=time.time()\n",
    "            epoch_time = np.round(end_epoch-start_epoch,decimals=2)\n",
    "            epoch_times.append(epoch_time)\n",
    "            \n",
    "            print(\"epoch took {:.2f} seconds\".format(epoch_time))\n",
    "            start_infer = time.time()\n",
    "            accuracies.append(test(model, device, test_loader))\n",
    "            end_infer=time.time()\n",
    "            infer_time = np.round(end_infer-start_infer,decimals=2)\n",
    "            infer_times.append(infer_time)\n",
    "            print(\"inference took {:.2f} seconds\".format(infer_time))\n",
    "        \n",
    "        print(\"finished \" + model_tag + \" with {}\".format(n_samples))\n",
    "        experiments[model_tag][\"accuracy\"][i] = np.round(np.mean(np.array(accuracies[-3:])),decimals=2)  #average over final 3 epochs\n",
    "        experiments[model_tag][\"training_time\"][i] = np.round(np.sum(np.array(epoch_times)),decimals=2)  # sum over all epochs\n",
    "        experiments[model_tag][\"inference_time\"][i] = np.round(np.mean(np.array(infer_times)),decimals=2)  #mean inference time\n",
    "        for k in experiments[model_tag].keys():\n",
    "            print(k, experiments[model_tag][k])\n",
    "        print()\n",
    "\n",
    "experiments"
   ]
  },
  {
   "cell_type": "markdown",
   "metadata": {
    "id": "lA-D6NHrDq_K",
    "tags": [
     "text"
    ]
   },
   "source": [
    "As a final task, create the following three plots:\n",
    "- accuracies against size of the dataset\n",
    "- inference times against size of the dataset\n",
    "- training times against size of the dataset\n",
    "\n",
    "Compare all six models in each of these three plots and don't forget to label the plots appropriately! Then answer the questions below."
   ]
  },
  {
   "cell_type": "code",
   "execution_count": 12,
   "metadata": {
    "colab": {
     "base_uri": "https://localhost:8080/",
     "height": 131
    },
    "id": "_Y7As1-FYLTJ",
    "outputId": "fe114bd4-0505-4f3e-8618-c6cc99aa3ef9",
    "tags": [
     "text"
    ]
   },
   "outputs": [
    {
     "ename": "SyntaxError",
     "evalue": "ignored",
     "output_type": "error",
     "traceback": [
      "\u001b[0;36m  File \u001b[0;32m\"<ipython-input-12-f90fa9239be0>\"\u001b[0;36m, line \u001b[0;32m1\u001b[0m\n\u001b[0;31m    <h3 style=\"color:rgb(208,90,80)\"> 2.1 Code & Questions (20 points)</h3>\u001b[0m\n\u001b[0m    ^\u001b[0m\n\u001b[0;31mSyntaxError\u001b[0m\u001b[0;31m:\u001b[0m invalid syntax\n"
     ]
    }
   ],
   "source": [
    "<h3 style=\"color:rgb(208,90,80)\"> 2.1 Code & Questions (20 points)</h3>"
   ]
  },
  {
   "cell_type": "code",
   "execution_count": 27,
   "metadata": {
    "colab": {
     "base_uri": "https://localhost:8080/",
     "height": 590
    },
    "id": "yHLowqaYYLTL",
    "outputId": "6c9e066f-9f76-4202-851c-db46b65b2aea",
    "scrolled": true,
    "tags": [
     "plots"
    ]
   },
   "outputs": [
    {
     "data": {
      "image/png": "[encoded data removed]",
      "text/plain": [
       "<Figure size 432x288 with 1 Axes>"
      ]
     },
     "metadata": {
      "needs_background": "light"
     },
     "output_type": "display_data"
    },
    {
     "data": {
      "text/plain": [
       "<matplotlib.legend.Legend at 0x7f4fa8789ee0>"
      ]
     },
     "execution_count": 27,
     "metadata": {},
     "output_type": "execute_result"
    },
    {
     "data": {
      "image/png": "[encoded data removed]",
      "text/plain": [
       "<Figure size 432x288 with 1 Axes>"
      ]
     },
     "metadata": {
      "needs_background": "light"
     },
     "output_type": "display_data"
    }
   ],
   "source": [
    "\n",
    "results = {'percentages': np.array([0.05, 0.1 , 0.25, 0.5 , 1.  ]),\n",
    " 'N_samples': np.array([3000, 6000, 15000, 30000, 60000]),\n",
    " 'RF_100': {'accuracy': np.array([ 82.42, 83.86, 85.67, 86.76, 87.77]),\n",
    "  'training_time': np.array([ 2.18,  4.60, 13.22, 29.77, 67.63]),\n",
    "  'inference_time': np.array([0.26, 0.28, 0.32, 0.35, 0.4 ])},\n",
    " 'RF_500': {'accuracy': np.array([83 , 84.27, 85.97, 86.97, 87.86]),\n",
    "  'training_time': np.array([ 10.38, 23.3,  65.26, 148.64, 337.84]),\n",
    "  'inference_time': np.array([ 1.24, 1.39, 1.53, 1.72, 1.95])},\n",
    " 'SVM': {'accuracy': np.array([ 82.32,  84.13, 86.14, 87.03, 88.28]),\n",
    "  'training_time': np.array([  2.29, 7.52,  40.43, 130.63, 433.99]),\n",
    "  'inference_time': np.array([ 11.18, 19.15,  49.58,  88.61, 157.68])},\n",
    "\n",
    " 'CNN_simple': {'accuracy': np.array([82.07, 82.07, 82.07, 82.07, 82.17]),\n",
    "  'training_time': np.array([80.7, 80.7, 80.7, 80.7, 81.67]),\n",
    "  'inference_time': np.array([2.3, 2.3, 2.3, 2.3, 2.15])},\n",
    " 'CNN_wide': {'accuracy': np.array([90.48, 90.48, 90.48, 90.48, 87.9]),\n",
    "  'training_time': np.array([160.84, 160.84, 160.84, 160.48, 83.29]),\n",
    "  'inference_time': np.array([1.35, 1.35, 1.35, 1.35, 2.03])},\n",
    " 'CNN_deep': {'accuracy': np.array([91.86,91.86,91.86,91.86,88.05]),\n",
    "  'training_time': np.array([162.91,162.91,162.91,162.91,103.64]),\n",
    "  'inference_time': np.array([1.32,1.32,1.32,1.32,2.25])},\n",
    " 'CNN_wide_max': {'accuracy': np.array([91.02,91.02,91.02,91.02,91.09]),\n",
    "  'training_time': np.array([161.16,161.16,161.16,161.16,83.48]),\n",
    "  'inference_time': np.array([1.33,1.33,1.33,1.33,2.11])}}\n",
    "\n",
    "\n",
    "for model in models:\n",
    "  plt.plot(results[\"N_samples\"], results[model][\"accuracy\"], marker=\"o\")\n",
    "plt.xlabel('number of samples')\n",
    "plt.ylabel('accuracy')\n",
    "plt.xticks(results[\"N_samples\"])\n",
    "plt.title('accuracies vs dataset')\n",
    "plt.legend(models)\n",
    "plt.show()\n",
    "\n",
    "for model in models:\n",
    "    plt.plot(results[\"N_samples\"], results[model]['inference_time'], marker='o')\n",
    "plt.xlabel('number of samples')\n",
    "plt.ylabel('inference time (in seconds)')\n",
    "plt.title('inference times vs dataset')\n",
    "plt.xticks(results[\"N_samples\"])\n",
    "plt.legend(models)\n",
    "\n",
    "for model in models:\n",
    "    plt.plot(results[\"N_samples\"], results[model]['training_time'], marker='o')\n",
    "plt.xlabel('number of samples')\n",
    "plt.ylabel('training time (in seconds)')\n",
    "plt.title('training times against size of the dataset')\n",
    "plt.xticks(results[\"N_samples\"])\n",
    "plt.legend(models)"
   ]
  },
  {
   "cell_type": "markdown",
   "metadata": {
    "id": "3kQImHJYlhVL",
    "tags": [
     "text"
    ]
   },
   "source": [
    "Which statements about the plots are correct?\n",
    "\n",
    "a_) Inference time follows a similar pattern for all but one classifier.<br>\n",
    "b_) Training time is almost identical for all classifiers.<br>\n",
    "c_) CNN_simple has the lowest accuracy for all dataset sizes.<br>\n",
    "d_) The worst accuracy for a model on any dataset is lower than $40%$. <br>\n",
    "e_) The model with the shortest training time for a dataset fraction of $0.1$ is a random forest.  <br>\n",
    "f_) All classifiers have an accuracy higher than $85%$ when being trained on the full dataset."
   ]
  },
  {
   "cell_type": "code",
   "execution_count": 28,
   "metadata": {
    "id": "JFNWFu-ulhVL",
    "tags": [
     "Q1"
    ]
   },
   "outputs": [],
   "source": [
    "#your answers go here ↓↓↓\n",
    "a_=False\n",
    "b_=False\n",
    "c_=True\n",
    "d_=False\n",
    "e_=False\n",
    "f_=False"
   ]
  },
  {
   "cell_type": "markdown",
   "metadata": {
    "id": "fJ2kcdMKlhVL",
    "tags": [
     "text"
    ]
   },
   "source": [
    "<h3 style=\"color:rgb(208,90,80)\">2.2 Question (10 points)</h3>\n",
    "\n",
    "Which statements are correct?\n",
    "\n",
    "g_) Inference and training times indicate that SVMs are not feasible on large data sets.<br>\n",
    "h_) A comparison of different algorithms is fair as long as they are compared on the same problem, i.e. the same training and test data.<br>\n",
    "i_) A comparison of different algorithms should take into account the number of trainable model parameters or the training and inference times.<br>\n",
    "j_) Monitoring the performance on the training data is pointless during training since only the performance on the test data counts.<br>\n",
    "k_) On small data sets, the SVM and Random Forests achieve higher accuracy than the simple CNN.<br>\n",
    "l_) Monitoring the performance on the training data and the test data is necessary to spot over-training.<br>"
   ]
  },
  {
   "cell_type": "code",
   "execution_count": 29,
   "metadata": {
    "id": "rfG9jxy7lhVM",
    "tags": [
     "Q2"
    ]
   },
   "outputs": [],
   "source": [
    "#your answers go here ↓↓↓\n",
    "g_=True\n",
    "h_=False\n",
    "i_=True\n",
    "j_=False\n",
    "k_=True\n",
    "l_=True"
   ]
  },
  {
   "cell_type": "markdown",
   "metadata": {
    "id": "LRsuhsLllhVM",
    "tags": [
     "text"
    ]
   },
   "source": [
    "The take home messages of this task are:\n",
    "- the model choice depends on the size and complexity of the data set\n",
    "- the model choice is constrained by the available computing and time resources\n",
    "- neural networks are often a good choice for large data sets, e.g. CNNs on computer vision tasks\n",
    "- for smaller problems alternatives like SVM or Random Forests can be more efficient\n",
    "- there is no algorithm that guarantees superior performance on every problem (aka \"No free lunch theorem\")"
   ]
  }
 ],
 "metadata": {
  "accelerator": "GPU",
  "celltoolbar": "Tags",
  "colab": {
   "provenance": []
  },
  "gpuClass": "standard",
  "kernelspec": {
   "display_name": "Python 3 (ipykernel)",
   "language": "python",
   "name": "python3"
  },
  "language_info": {
   "codemirror_mode": {
    "name": "ipython",
    "version": 3
   },
   "file_extension": ".py",
   "mimetype": "text/x-python",
   "name": "python",
   "nbconvert_exporter": "python",
   "pygments_lexer": "ipython3",
   "version": "3.7.9"
  },
  "widgets": {
   "application/vnd.jupyter.widget-state+json": {
    "07f23fb0319245b181af13e840e37b85": {
     "model_module": "@jupyter-widgets/controls",
     "model_module_version": "1.5.0",
     "model_name": "FloatProgressModel",
     "state": {
      "_dom_classes": [],
      "_model_module": "@jupyter-widgets/controls",
      "_model_module_version": "1.5.0",
      "_model_name": "FloatProgressModel",
      "_view_count": null,
      "_view_module": "@jupyter-widgets/controls",
      "_view_module_version": "1.5.0",
      "_view_name": "ProgressView",
      "bar_style": "success",
      "description": "",
      "description_tooltip": null,
      "layout": "IPY_MODEL_ec25ad4617884fed90e7e38e48ea6e88",
      "max": 26421880,
      "min": 0,
      "orientation": "horizontal",
      "style": "IPY_MODEL_95d0c6034c41424ea45a4b2f6cf0e63d",
      "value": 26421880
     }
    },
    "08e48b6f0cd644e093a678766911707c": {
     "model_module": "@jupyter-widgets/base",
     "model_module_version": "1.2.0",
     "model_name": "LayoutModel",
     "state": {
      "_model_module": "@jupyter-widgets/base",
      "_model_module_version": "1.2.0",
      "_model_name": "LayoutModel",
      "_view_count": null,
      "_view_module": "@jupyter-widgets/base",
      "_view_module_version": "1.2.0",
      "_view_name": "LayoutView",
      "align_content": null,
      "align_items": null,
      "align_self": null,
      "border": null,
      "bottom": null,
      "display": null,
      "flex": null,
      "flex_flow": null,
      "grid_area": null,
      "grid_auto_columns": null,
      "grid_auto_flow": null,
      "grid_auto_rows": null,
      "grid_column": null,
      "grid_gap": null,
      "grid_row": null,
      "grid_template_areas": null,
      "grid_template_columns": null,
      "grid_template_rows": null,
      "height": null,
      "justify_content": null,
      "justify_items": null,
      "left": null,
      "margin": null,
      "max_height": null,
      "max_width": null,
      "min_height": null,
      "min_width": null,
      "object_fit": null,
      "object_position": null,
      "order": null,
      "overflow": null,
      "overflow_x": null,
      "overflow_y": null,
      "padding": null,
      "right": null,
      "top": null,
      "visibility": null,
      "width": null
     }
    },
    "1f902208730745aabfa9ae97c7c4c682": {
     "model_module": "@jupyter-widgets/base",
     "model_module_version": "1.2.0",
     "model_name": "LayoutModel",
     "state": {
      "_model_module": "@jupyter-widgets/base",
      "_model_module_version": "1.2.0",
      "_model_name": "LayoutModel",
      "_view_count": null,
      "_view_module": "@jupyter-widgets/base",
      "_view_module_version": "1.2.0",
      "_view_name": "LayoutView",
      "align_content": null,
      "align_items": null,
      "align_self": null,
      "border": null,
      "bottom": null,
      "display": null,
      "flex": null,
      "flex_flow": null,
      "grid_area": null,
      "grid_auto_columns": null,
      "grid_auto_flow": null,
      "grid_auto_rows": null,
      "grid_column": null,
      "grid_gap": null,
      "grid_row": null,
      "grid_template_areas": null,
      "grid_template_columns": null,
      "grid_template_rows": null,
      "height": null,
      "justify_content": null,
      "justify_items": null,
      "left": null,
      "margin": null,
      "max_height": null,
      "max_width": null,
      "min_height": null,
      "min_width": null,
      "object_fit": null,
      "object_position": null,
      "order": null,
      "overflow": null,
      "overflow_x": null,
      "overflow_y": null,
      "padding": null,
      "right": null,
      "top": null,
      "visibility": null,
      "width": null
     }
    },
    "20658e68505e491e862ce34c8ab84a9c": {
     "model_module": "@jupyter-widgets/base",
     "model_module_version": "1.2.0",
     "model_name": "LayoutModel",
     "state": {
      "_model_module": "@jupyter-widgets/base",
      "_model_module_version": "1.2.0",
      "_model_name": "LayoutModel",
      "_view_count": null,
      "_view_module": "@jupyter-widgets/base",
      "_view_module_version": "1.2.0",
      "_view_name": "LayoutView",
      "align_content": null,
      "align_items": null,
      "align_self": null,
      "border": null,
      "bottom": null,
      "display": null,
      "flex": null,
      "flex_flow": null,
      "grid_area": null,
      "grid_auto_columns": null,
      "grid_auto_flow": null,
      "grid_auto_rows": null,
      "grid_column": null,
      "grid_gap": null,
      "grid_row": null,
      "grid_template_areas": null,
      "grid_template_columns": null,
      "grid_template_rows": null,
      "height": null,
      "justify_content": null,
      "justify_items": null,
      "left": null,
      "margin": null,
      "max_height": null,
      "max_width": null,
      "min_height": null,
      "min_width": null,
      "object_fit": null,
      "object_position": null,
      "order": null,
      "overflow": null,
      "overflow_x": null,
      "overflow_y": null,
      "padding": null,
      "right": null,
      "top": null,
      "visibility": null,
      "width": null
     }
    },
    "28300d76981c4e80bed60da204401ee4": {
     "model_module": "@jupyter-widgets/controls",
     "model_module_version": "1.5.0",
     "model_name": "HTMLModel",
     "state": {
      "_dom_classes": [],
      "_model_module": "@jupyter-widgets/controls",
      "_model_module_version": "1.5.0",
      "_model_name": "HTMLModel",
      "_view_count": null,
      "_view_module": "@jupyter-widgets/controls",
      "_view_module_version": "1.5.0",
      "_view_name": "HTMLView",
      "description": "",
      "description_tooltip": null,
      "layout": "IPY_MODEL_3f39db0c32b54e9d8b427f08743b6605",
      "placeholder": "​",
      "style": "IPY_MODEL_3627410682544f19a4348a20b2cb0cd2",
      "value": " 26421880/26421880 [00:03&lt;00:00, 13351294.98it/s]"
     }
    },
    "2ea74aa2eaa24b92b69824426073c6d1": {
     "model_module": "@jupyter-widgets/base",
     "model_module_version": "1.2.0",
     "model_name": "LayoutModel",
     "state": {
      "_model_module": "@jupyter-widgets/base",
      "_model_module_version": "1.2.0",
      "_model_name": "LayoutModel",
      "_view_count": null,
      "_view_module": "@jupyter-widgets/base",
      "_view_module_version": "1.2.0",
      "_view_name": "LayoutView",
      "align_content": null,
      "align_items": null,
      "align_self": null,
      "border": null,
      "bottom": null,
      "display": null,
      "flex": null,
      "flex_flow": null,
      "grid_area": null,
      "grid_auto_columns": null,
      "grid_auto_flow": null,
      "grid_auto_rows": null,
      "grid_column": null,
      "grid_gap": null,
      "grid_row": null,
      "grid_template_areas": null,
      "grid_template_columns": null,
      "grid_template_rows": null,
      "height": null,
      "justify_content": null,
      "justify_items": null,
      "left": null,
      "margin": null,
      "max_height": null,
      "max_width": null,
      "min_height": null,
      "min_width": null,
      "object_fit": null,
      "object_position": null,
      "order": null,
      "overflow": null,
      "overflow_x": null,
      "overflow_y": null,
      "padding": null,
      "right": null,
      "top": null,
      "visibility": null,
      "width": null
     }
    },
    "3627410682544f19a4348a20b2cb0cd2": {
     "model_module": "@jupyter-widgets/controls",
     "model_module_version": "1.5.0",
     "model_name": "DescriptionStyleModel",
     "state": {
      "_model_module": "@jupyter-widgets/controls",
      "_model_module_version": "1.5.0",
      "_model_name": "DescriptionStyleModel",
      "_view_count": null,
      "_view_module": "@jupyter-widgets/base",
      "_view_module_version": "1.2.0",
      "_view_name": "StyleView",
      "description_width": ""
     }
    },
    "3636c1d25c5f4bf38a020fbf7a7d8387": {
     "model_module": "@jupyter-widgets/controls",
     "model_module_version": "1.5.0",
     "model_name": "HBoxModel",
     "state": {
      "_dom_classes": [],
      "_model_module": "@jupyter-widgets/controls",
      "_model_module_version": "1.5.0",
      "_model_name": "HBoxModel",
      "_view_count": null,
      "_view_module": "@jupyter-widgets/controls",
      "_view_module_version": "1.5.0",
      "_view_name": "HBoxView",
      "box_style": "",
      "children": [
       "IPY_MODEL_39b61f718790477d9879e4d25fd49888",
       "IPY_MODEL_af8900647c1e44ef92fc442a545d7d4f",
       "IPY_MODEL_c39dfa288f494e179a4da5d509320d90"
      ],
      "layout": "IPY_MODEL_d78c2022ea164abf8a87a1f99499044e"
     }
    },
    "39b61f718790477d9879e4d25fd49888": {
     "model_module": "@jupyter-widgets/controls",
     "model_module_version": "1.5.0",
     "model_name": "HTMLModel",
     "state": {
      "_dom_classes": [],
      "_model_module": "@jupyter-widgets/controls",
      "_model_module_version": "1.5.0",
      "_model_name": "HTMLModel",
      "_view_count": null,
      "_view_module": "@jupyter-widgets/controls",
      "_view_module_version": "1.5.0",
      "_view_name": "HTMLView",
      "description": "",
      "description_tooltip": null,
      "layout": "IPY_MODEL_a4c69af676234851b4f81f708e85e191",
      "placeholder": "​",
      "style": "IPY_MODEL_e5e097e49c3045d4bf8149aacf24e416",
      "value": "100%"
     }
    },
    "3f39db0c32b54e9d8b427f08743b6605": {
     "model_module": "@jupyter-widgets/base",
     "model_module_version": "1.2.0",
     "model_name": "LayoutModel",
     "state": {
      "_model_module": "@jupyter-widgets/base",
      "_model_module_version": "1.2.0",
      "_model_name": "LayoutModel",
      "_view_count": null,
      "_view_module": "@jupyter-widgets/base",
      "_view_module_version": "1.2.0",
      "_view_name": "LayoutView",
      "align_content": null,
      "align_items": null,
      "align_self": null,
      "border": null,
      "bottom": null,
      "display": null,
      "flex": null,
      "flex_flow": null,
      "grid_area": null,
      "grid_auto_columns": null,
      "grid_auto_flow": null,
      "grid_auto_rows": null,
      "grid_column": null,
      "grid_gap": null,
      "grid_row": null,
      "grid_template_areas": null,
      "grid_template_columns": null,
      "grid_template_rows": null,
      "height": null,
      "justify_content": null,
      "justify_items": null,
      "left": null,
      "margin": null,
      "max_height": null,
      "max_width": null,
      "min_height": null,
      "min_width": null,
      "object_fit": null,
      "object_position": null,
      "order": null,
      "overflow": null,
      "overflow_x": null,
      "overflow_y": null,
      "padding": null,
      "right": null,
      "top": null,
      "visibility": null,
      "width": null
     }
    },
    "40ffb66ed58f4daa9527b32f840f684c": {
     "model_module": "@jupyter-widgets/controls",
     "model_module_version": "1.5.0",
     "model_name": "HTMLModel",
     "state": {
      "_dom_classes": [],
      "_model_module": "@jupyter-widgets/controls",
      "_model_module_version": "1.5.0",
      "_model_name": "HTMLModel",
      "_view_count": null,
      "_view_module": "@jupyter-widgets/controls",
      "_view_module_version": "1.5.0",
      "_view_name": "HTMLView",
      "description": "",
      "description_tooltip": null,
      "layout": "IPY_MODEL_f1199ab41a5e4cfcb4a3de69209599e6",
      "placeholder": "​",
      "style": "IPY_MODEL_a6d4eddd146449b3b30ba706fc9ddf51",
      "value": " 5148/5148 [00:00&lt;00:00, 383351.57it/s]"
     }
    },
    "5c26b0e7511a4cc388d37c8e26f269a9": {
     "model_module": "@jupyter-widgets/controls",
     "model_module_version": "1.5.0",
     "model_name": "HBoxModel",
     "state": {
      "_dom_classes": [],
      "_model_module": "@jupyter-widgets/controls",
      "_model_module_version": "1.5.0",
      "_model_name": "HBoxModel",
      "_view_count": null,
      "_view_module": "@jupyter-widgets/controls",
      "_view_module_version": "1.5.0",
      "_view_name": "HBoxView",
      "box_style": "",
      "children": [
       "IPY_MODEL_6e85324ecfc24524a8f06d6749c95033",
       "IPY_MODEL_6fdb31b84fd046ccb26bab4eddfc904c",
       "IPY_MODEL_8ee11f50bc40437ca67344d12299f5a4"
      ],
      "layout": "IPY_MODEL_9d06c7b56f9e4fb7bf52b5c0bab15e33"
     }
    },
    "6e85324ecfc24524a8f06d6749c95033": {
     "model_module": "@jupyter-widgets/controls",
     "model_module_version": "1.5.0",
     "model_name": "HTMLModel",
     "state": {
      "_dom_classes": [],
      "_model_module": "@jupyter-widgets/controls",
      "_model_module_version": "1.5.0",
      "_model_name": "HTMLModel",
      "_view_count": null,
      "_view_module": "@jupyter-widgets/controls",
      "_view_module_version": "1.5.0",
      "_view_name": "HTMLView",
      "description": "",
      "description_tooltip": null,
      "layout": "IPY_MODEL_20658e68505e491e862ce34c8ab84a9c",
      "placeholder": "​",
      "style": "IPY_MODEL_dbdbf62faf374a72a88e9ed0ea52f2e4",
      "value": "100%"
     }
    },
    "6fdb31b84fd046ccb26bab4eddfc904c": {
     "model_module": "@jupyter-widgets/controls",
     "model_module_version": "1.5.0",
     "model_name": "FloatProgressModel",
     "state": {
      "_dom_classes": [],
      "_model_module": "@jupyter-widgets/controls",
      "_model_module_version": "1.5.0",
      "_model_name": "FloatProgressModel",
      "_view_count": null,
      "_view_module": "@jupyter-widgets/controls",
      "_view_module_version": "1.5.0",
      "_view_name": "ProgressView",
      "bar_style": "success",
      "description": "",
      "description_tooltip": null,
      "layout": "IPY_MODEL_1f902208730745aabfa9ae97c7c4c682",
      "max": 29515,
      "min": 0,
      "orientation": "horizontal",
      "style": "IPY_MODEL_903242abb91f47a2abaead00ac7be299",
      "value": 29515
     }
    },
    "7525bf52be444e8c8a6af258bdeefef8": {
     "model_module": "@jupyter-widgets/controls",
     "model_module_version": "1.5.0",
     "model_name": "DescriptionStyleModel",
     "state": {
      "_model_module": "@jupyter-widgets/controls",
      "_model_module_version": "1.5.0",
      "_model_name": "DescriptionStyleModel",
      "_view_count": null,
      "_view_module": "@jupyter-widgets/base",
      "_view_module_version": "1.2.0",
      "_view_name": "StyleView",
      "description_width": ""
     }
    },
    "87975b88dd674ddd8bee58531b7ad460": {
     "model_module": "@jupyter-widgets/controls",
     "model_module_version": "1.5.0",
     "model_name": "HTMLModel",
     "state": {
      "_dom_classes": [],
      "_model_module": "@jupyter-widgets/controls",
      "_model_module_version": "1.5.0",
      "_model_name": "HTMLModel",
      "_view_count": null,
      "_view_module": "@jupyter-widgets/controls",
      "_view_module_version": "1.5.0",
      "_view_name": "HTMLView",
      "description": "",
      "description_tooltip": null,
      "layout": "IPY_MODEL_b361246cdd0f493a8fd4565b188f313e",
      "placeholder": "​",
      "style": "IPY_MODEL_d80eea2a6fa94190aae0f0256b9fa870",
      "value": "100%"
     }
    },
    "879d719ffd2b4767af1bbc0abd826324": {
     "model_module": "@jupyter-widgets/base",
     "model_module_version": "1.2.0",
     "model_name": "LayoutModel",
     "state": {
      "_model_module": "@jupyter-widgets/base",
      "_model_module_version": "1.2.0",
      "_model_name": "LayoutModel",
      "_view_count": null,
      "_view_module": "@jupyter-widgets/base",
      "_view_module_version": "1.2.0",
      "_view_name": "LayoutView",
      "align_content": null,
      "align_items": null,
      "align_self": null,
      "border": null,
      "bottom": null,
      "display": null,
      "flex": null,
      "flex_flow": null,
      "grid_area": null,
      "grid_auto_columns": null,
      "grid_auto_flow": null,
      "grid_auto_rows": null,
      "grid_column": null,
      "grid_gap": null,
      "grid_row": null,
      "grid_template_areas": null,
      "grid_template_columns": null,
      "grid_template_rows": null,
      "height": null,
      "justify_content": null,
      "justify_items": null,
      "left": null,
      "margin": null,
      "max_height": null,
      "max_width": null,
      "min_height": null,
      "min_width": null,
      "object_fit": null,
      "object_position": null,
      "order": null,
      "overflow": null,
      "overflow_x": null,
      "overflow_y": null,
      "padding": null,
      "right": null,
      "top": null,
      "visibility": null,
      "width": null
     }
    },
    "8ee11f50bc40437ca67344d12299f5a4": {
     "model_module": "@jupyter-widgets/controls",
     "model_module_version": "1.5.0",
     "model_name": "HTMLModel",
     "state": {
      "_dom_classes": [],
      "_model_module": "@jupyter-widgets/controls",
      "_model_module_version": "1.5.0",
      "_model_name": "HTMLModel",
      "_view_count": null,
      "_view_module": "@jupyter-widgets/controls",
      "_view_module_version": "1.5.0",
      "_view_name": "HTMLView",
      "description": "",
      "description_tooltip": null,
      "layout": "IPY_MODEL_08e48b6f0cd644e093a678766911707c",
      "placeholder": "​",
      "style": "IPY_MODEL_a9ebab30fcf147d38f33c3180dfa67b1",
      "value": " 29515/29515 [00:00&lt;00:00, 147894.78it/s]"
     }
    },
    "903242abb91f47a2abaead00ac7be299": {
     "model_module": "@jupyter-widgets/controls",
     "model_module_version": "1.5.0",
     "model_name": "ProgressStyleModel",
     "state": {
      "_model_module": "@jupyter-widgets/controls",
      "_model_module_version": "1.5.0",
      "_model_name": "ProgressStyleModel",
      "_view_count": null,
      "_view_module": "@jupyter-widgets/base",
      "_view_module_version": "1.2.0",
      "_view_name": "StyleView",
      "bar_color": null,
      "description_width": ""
     }
    },
    "9130660439c045b88cd150d47ae82d7e": {
     "model_module": "@jupyter-widgets/controls",
     "model_module_version": "1.5.0",
     "model_name": "HBoxModel",
     "state": {
      "_dom_classes": [],
      "_model_module": "@jupyter-widgets/controls",
      "_model_module_version": "1.5.0",
      "_model_name": "HBoxModel",
      "_view_count": null,
      "_view_module": "@jupyter-widgets/controls",
      "_view_module_version": "1.5.0",
      "_view_name": "HBoxView",
      "box_style": "",
      "children": [
       "IPY_MODEL_be3c77ff6401446da7127227628e7005",
       "IPY_MODEL_07f23fb0319245b181af13e840e37b85",
       "IPY_MODEL_28300d76981c4e80bed60da204401ee4"
      ],
      "layout": "IPY_MODEL_2ea74aa2eaa24b92b69824426073c6d1"
     }
    },
    "95d0c6034c41424ea45a4b2f6cf0e63d": {
     "model_module": "@jupyter-widgets/controls",
     "model_module_version": "1.5.0",
     "model_name": "ProgressStyleModel",
     "state": {
      "_model_module": "@jupyter-widgets/controls",
      "_model_module_version": "1.5.0",
      "_model_name": "ProgressStyleModel",
      "_view_count": null,
      "_view_module": "@jupyter-widgets/base",
      "_view_module_version": "1.2.0",
      "_view_name": "StyleView",
      "bar_color": null,
      "description_width": ""
     }
    },
    "9d06c7b56f9e4fb7bf52b5c0bab15e33": {
     "model_module": "@jupyter-widgets/base",
     "model_module_version": "1.2.0",
     "model_name": "LayoutModel",
     "state": {
      "_model_module": "@jupyter-widgets/base",
      "_model_module_version": "1.2.0",
      "_model_name": "LayoutModel",
      "_view_count": null,
      "_view_module": "@jupyter-widgets/base",
      "_view_module_version": "1.2.0",
      "_view_name": "LayoutView",
      "align_content": null,
      "align_items": null,
      "align_self": null,
      "border": null,
      "bottom": null,
      "display": null,
      "flex": null,
      "flex_flow": null,
      "grid_area": null,
      "grid_auto_columns": null,
      "grid_auto_flow": null,
      "grid_auto_rows": null,
      "grid_column": null,
      "grid_gap": null,
      "grid_row": null,
      "grid_template_areas": null,
      "grid_template_columns": null,
      "grid_template_rows": null,
      "height": null,
      "justify_content": null,
      "justify_items": null,
      "left": null,
      "margin": null,
      "max_height": null,
      "max_width": null,
      "min_height": null,
      "min_width": null,
      "object_fit": null,
      "object_position": null,
      "order": null,
      "overflow": null,
      "overflow_x": null,
      "overflow_y": null,
      "padding": null,
      "right": null,
      "top": null,
      "visibility": null,
      "width": null
     }
    },
    "a4c69af676234851b4f81f708e85e191": {
     "model_module": "@jupyter-widgets/base",
     "model_module_version": "1.2.0",
     "model_name": "LayoutModel",
     "state": {
      "_model_module": "@jupyter-widgets/base",
      "_model_module_version": "1.2.0",
      "_model_name": "LayoutModel",
      "_view_count": null,
      "_view_module": "@jupyter-widgets/base",
      "_view_module_version": "1.2.0",
      "_view_name": "LayoutView",
      "align_content": null,
      "align_items": null,
      "align_self": null,
      "border": null,
      "bottom": null,
      "display": null,
      "flex": null,
      "flex_flow": null,
      "grid_area": null,
      "grid_auto_columns": null,
      "grid_auto_flow": null,
      "grid_auto_rows": null,
      "grid_column": null,
      "grid_gap": null,
      "grid_row": null,
      "grid_template_areas": null,
      "grid_template_columns": null,
      "grid_template_rows": null,
      "height": null,
      "justify_content": null,
      "justify_items": null,
      "left": null,
      "margin": null,
      "max_height": null,
      "max_width": null,
      "min_height": null,
      "min_width": null,
      "object_fit": null,
      "object_position": null,
      "order": null,
      "overflow": null,
      "overflow_x": null,
      "overflow_y": null,
      "padding": null,
      "right": null,
      "top": null,
      "visibility": null,
      "width": null
     }
    },
    "a6d4eddd146449b3b30ba706fc9ddf51": {
     "model_module": "@jupyter-widgets/controls",
     "model_module_version": "1.5.0",
     "model_name": "DescriptionStyleModel",
     "state": {
      "_model_module": "@jupyter-widgets/controls",
      "_model_module_version": "1.5.0",
      "_model_name": "DescriptionStyleModel",
      "_view_count": null,
      "_view_module": "@jupyter-widgets/base",
      "_view_module_version": "1.2.0",
      "_view_name": "StyleView",
      "description_width": ""
     }
    },
    "a9c9afacd7d049a7bdc1c884ae0df012": {
     "model_module": "@jupyter-widgets/controls",
     "model_module_version": "1.5.0",
     "model_name": "HBoxModel",
     "state": {
      "_dom_classes": [],
      "_model_module": "@jupyter-widgets/controls",
      "_model_module_version": "1.5.0",
      "_model_name": "HBoxModel",
      "_view_count": null,
      "_view_module": "@jupyter-widgets/controls",
      "_view_module_version": "1.5.0",
      "_view_name": "HBoxView",
      "box_style": "",
      "children": [
       "IPY_MODEL_87975b88dd674ddd8bee58531b7ad460",
       "IPY_MODEL_faaac199c3bd4d81a38bd300e5da5d7b",
       "IPY_MODEL_40ffb66ed58f4daa9527b32f840f684c"
      ],
      "layout": "IPY_MODEL_d9ca9cd087164733a130eb108bb75b95"
     }
    },
    "a9ebab30fcf147d38f33c3180dfa67b1": {
     "model_module": "@jupyter-widgets/controls",
     "model_module_version": "1.5.0",
     "model_name": "DescriptionStyleModel",
     "state": {
      "_model_module": "@jupyter-widgets/controls",
      "_model_module_version": "1.5.0",
      "_model_name": "DescriptionStyleModel",
      "_view_count": null,
      "_view_module": "@jupyter-widgets/base",
      "_view_module_version": "1.2.0",
      "_view_name": "StyleView",
      "description_width": ""
     }
    },
    "af8900647c1e44ef92fc442a545d7d4f": {
     "model_module": "@jupyter-widgets/controls",
     "model_module_version": "1.5.0",
     "model_name": "FloatProgressModel",
     "state": {
      "_dom_classes": [],
      "_model_module": "@jupyter-widgets/controls",
      "_model_module_version": "1.5.0",
      "_model_name": "FloatProgressModel",
      "_view_count": null,
      "_view_module": "@jupyter-widgets/controls",
      "_view_module_version": "1.5.0",
      "_view_name": "ProgressView",
      "bar_style": "success",
      "description": "",
      "description_tooltip": null,
      "layout": "IPY_MODEL_f8fae80e40a54768862e6c411a9f3cab",
      "max": 4422102,
      "min": 0,
      "orientation": "horizontal",
      "style": "IPY_MODEL_eae8752c021c405b878de8b630aa543e",
      "value": 4422102
     }
    },
    "b361246cdd0f493a8fd4565b188f313e": {
     "model_module": "@jupyter-widgets/base",
     "model_module_version": "1.2.0",
     "model_name": "LayoutModel",
     "state": {
      "_model_module": "@jupyter-widgets/base",
      "_model_module_version": "1.2.0",
      "_model_name": "LayoutModel",
      "_view_count": null,
      "_view_module": "@jupyter-widgets/base",
      "_view_module_version": "1.2.0",
      "_view_name": "LayoutView",
      "align_content": null,
      "align_items": null,
      "align_self": null,
      "border": null,
      "bottom": null,
      "display": null,
      "flex": null,
      "flex_flow": null,
      "grid_area": null,
      "grid_auto_columns": null,
      "grid_auto_flow": null,
      "grid_auto_rows": null,
      "grid_column": null,
      "grid_gap": null,
      "grid_row": null,
      "grid_template_areas": null,
      "grid_template_columns": null,
      "grid_template_rows": null,
      "height": null,
      "justify_content": null,
      "justify_items": null,
      "left": null,
      "margin": null,
      "max_height": null,
      "max_width": null,
      "min_height": null,
      "min_width": null,
      "object_fit": null,
      "object_position": null,
      "order": null,
      "overflow": null,
      "overflow_x": null,
      "overflow_y": null,
      "padding": null,
      "right": null,
      "top": null,
      "visibility": null,
      "width": null
     }
    },
    "be3c77ff6401446da7127227628e7005": {
     "model_module": "@jupyter-widgets/controls",
     "model_module_version": "1.5.0",
     "model_name": "HTMLModel",
     "state": {
      "_dom_classes": [],
      "_model_module": "@jupyter-widgets/controls",
      "_model_module_version": "1.5.0",
      "_model_name": "HTMLModel",
      "_view_count": null,
      "_view_module": "@jupyter-widgets/controls",
      "_view_module_version": "1.5.0",
      "_view_name": "HTMLView",
      "description": "",
      "description_tooltip": null,
      "layout": "IPY_MODEL_e9da458a5029426f81dc5eb3c085b151",
      "placeholder": "​",
      "style": "IPY_MODEL_7525bf52be444e8c8a6af258bdeefef8",
      "value": "100%"
     }
    },
    "c39dfa288f494e179a4da5d509320d90": {
     "model_module": "@jupyter-widgets/controls",
     "model_module_version": "1.5.0",
     "model_name": "HTMLModel",
     "state": {
      "_dom_classes": [],
      "_model_module": "@jupyter-widgets/controls",
      "_model_module_version": "1.5.0",
      "_model_name": "HTMLModel",
      "_view_count": null,
      "_view_module": "@jupyter-widgets/controls",
      "_view_module_version": "1.5.0",
      "_view_name": "HTMLView",
      "description": "",
      "description_tooltip": null,
      "layout": "IPY_MODEL_879d719ffd2b4767af1bbc0abd826324",
      "placeholder": "​",
      "style": "IPY_MODEL_f8b832e0b4a1498dbb736d1bd0f82ce5",
      "value": " 4422102/4422102 [00:01&lt;00:00, 4685810.49it/s]"
     }
    },
    "d78a7b6865d141cea6977045fc2f1005": {
     "model_module": "@jupyter-widgets/controls",
     "model_module_version": "1.5.0",
     "model_name": "ProgressStyleModel",
     "state": {
      "_model_module": "@jupyter-widgets/controls",
      "_model_module_version": "1.5.0",
      "_model_name": "ProgressStyleModel",
      "_view_count": null,
      "_view_module": "@jupyter-widgets/base",
      "_view_module_version": "1.2.0",
      "_view_name": "StyleView",
      "bar_color": null,
      "description_width": ""
     }
    },
    "d78c2022ea164abf8a87a1f99499044e": {
     "model_module": "@jupyter-widgets/base",
     "model_module_version": "1.2.0",
     "model_name": "LayoutModel",
     "state": {
      "_model_module": "@jupyter-widgets/base",
      "_model_module_version": "1.2.0",
      "_model_name": "LayoutModel",
      "_view_count": null,
      "_view_module": "@jupyter-widgets/base",
      "_view_module_version": "1.2.0",
      "_view_name": "LayoutView",
      "align_content": null,
      "align_items": null,
      "align_self": null,
      "border": null,
      "bottom": null,
      "display": null,
      "flex": null,
      "flex_flow": null,
      "grid_area": null,
      "grid_auto_columns": null,
      "grid_auto_flow": null,
      "grid_auto_rows": null,
      "grid_column": null,
      "grid_gap": null,
      "grid_row": null,
      "grid_template_areas": null,
      "grid_template_columns": null,
      "grid_template_rows": null,
      "height": null,
      "justify_content": null,
      "justify_items": null,
      "left": null,
      "margin": null,
      "max_height": null,
      "max_width": null,
      "min_height": null,
      "min_width": null,
      "object_fit": null,
      "object_position": null,
      "order": null,
      "overflow": null,
      "overflow_x": null,
      "overflow_y": null,
      "padding": null,
      "right": null,
      "top": null,
      "visibility": null,
      "width": null
     }
    },
    "d80eea2a6fa94190aae0f0256b9fa870": {
     "model_module": "@jupyter-widgets/controls",
     "model_module_version": "1.5.0",
     "model_name": "DescriptionStyleModel",
     "state": {
      "_model_module": "@jupyter-widgets/controls",
      "_model_module_version": "1.5.0",
      "_model_name": "DescriptionStyleModel",
      "_view_count": null,
      "_view_module": "@jupyter-widgets/base",
      "_view_module_version": "1.2.0",
      "_view_name": "StyleView",
      "description_width": ""
     }
    },
    "d9ca9cd087164733a130eb108bb75b95": {
     "model_module": "@jupyter-widgets/base",
     "model_module_version": "1.2.0",
     "model_name": "LayoutModel",
     "state": {
      "_model_module": "@jupyter-widgets/base",
      "_model_module_version": "1.2.0",
      "_model_name": "LayoutModel",
      "_view_count": null,
      "_view_module": "@jupyter-widgets/base",
      "_view_module_version": "1.2.0",
      "_view_name": "LayoutView",
      "align_content": null,
      "align_items": null,
      "align_self": null,
      "border": null,
      "bottom": null,
      "display": null,
      "flex": null,
      "flex_flow": null,
      "grid_area": null,
      "grid_auto_columns": null,
      "grid_auto_flow": null,
      "grid_auto_rows": null,
      "grid_column": null,
      "grid_gap": null,
      "grid_row": null,
      "grid_template_areas": null,
      "grid_template_columns": null,
      "grid_template_rows": null,
      "height": null,
      "justify_content": null,
      "justify_items": null,
      "left": null,
      "margin": null,
      "max_height": null,
      "max_width": null,
      "min_height": null,
      "min_width": null,
      "object_fit": null,
      "object_position": null,
      "order": null,
      "overflow": null,
      "overflow_x": null,
      "overflow_y": null,
      "padding": null,
      "right": null,
      "top": null,
      "visibility": null,
      "width": null
     }
    },
    "dbdbf62faf374a72a88e9ed0ea52f2e4": {
     "model_module": "@jupyter-widgets/controls",
     "model_module_version": "1.5.0",
     "model_name": "DescriptionStyleModel",
     "state": {
      "_model_module": "@jupyter-widgets/controls",
      "_model_module_version": "1.5.0",
      "_model_name": "DescriptionStyleModel",
      "_view_count": null,
      "_view_module": "@jupyter-widgets/base",
      "_view_module_version": "1.2.0",
      "_view_name": "StyleView",
      "description_width": ""
     }
    },
    "e5e097e49c3045d4bf8149aacf24e416": {
     "model_module": "@jupyter-widgets/controls",
     "model_module_version": "1.5.0",
     "model_name": "DescriptionStyleModel",
     "state": {
      "_model_module": "@jupyter-widgets/controls",
      "_model_module_version": "1.5.0",
      "_model_name": "DescriptionStyleModel",
      "_view_count": null,
      "_view_module": "@jupyter-widgets/base",
      "_view_module_version": "1.2.0",
      "_view_name": "StyleView",
      "description_width": ""
     }
    },
    "e9da458a5029426f81dc5eb3c085b151": {
     "model_module": "@jupyter-widgets/base",
     "model_module_version": "1.2.0",
     "model_name": "LayoutModel",
     "state": {
      "_model_module": "@jupyter-widgets/base",
      "_model_module_version": "1.2.0",
      "_model_name": "LayoutModel",
      "_view_count": null,
      "_view_module": "@jupyter-widgets/base",
      "_view_module_version": "1.2.0",
      "_view_name": "LayoutView",
      "align_content": null,
      "align_items": null,
      "align_self": null,
      "border": null,
      "bottom": null,
      "display": null,
      "flex": null,
      "flex_flow": null,
      "grid_area": null,
      "grid_auto_columns": null,
      "grid_auto_flow": null,
      "grid_auto_rows": null,
      "grid_column": null,
      "grid_gap": null,
      "grid_row": null,
      "grid_template_areas": null,
      "grid_template_columns": null,
      "grid_template_rows": null,
      "height": null,
      "justify_content": null,
      "justify_items": null,
      "left": null,
      "margin": null,
      "max_height": null,
      "max_width": null,
      "min_height": null,
      "min_width": null,
      "object_fit": null,
      "object_position": null,
      "order": null,
      "overflow": null,
      "overflow_x": null,
      "overflow_y": null,
      "padding": null,
      "right": null,
      "top": null,
      "visibility": null,
      "width": null
     }
    },
    "eae8752c021c405b878de8b630aa543e": {
     "model_module": "@jupyter-widgets/controls",
     "model_module_version": "1.5.0",
     "model_name": "ProgressStyleModel",
     "state": {
      "_model_module": "@jupyter-widgets/controls",
      "_model_module_version": "1.5.0",
      "_model_name": "ProgressStyleModel",
      "_view_count": null,
      "_view_module": "@jupyter-widgets/base",
      "_view_module_version": "1.2.0",
      "_view_name": "StyleView",
      "bar_color": null,
      "description_width": ""
     }
    },
    "ec25ad4617884fed90e7e38e48ea6e88": {
     "model_module": "@jupyter-widgets/base",
     "model_module_version": "1.2.0",
     "model_name": "LayoutModel",
     "state": {
      "_model_module": "@jupyter-widgets/base",
      "_model_module_version": "1.2.0",
      "_model_name": "LayoutModel",
      "_view_count": null,
      "_view_module": "@jupyter-widgets/base",
      "_view_module_version": "1.2.0",
      "_view_name": "LayoutView",
      "align_content": null,
      "align_items": null,
      "align_self": null,
      "border": null,
      "bottom": null,
      "display": null,
      "flex": null,
      "flex_flow": null,
      "grid_area": null,
      "grid_auto_columns": null,
      "grid_auto_flow": null,
      "grid_auto_rows": null,
      "grid_column": null,
      "grid_gap": null,
      "grid_row": null,
      "grid_template_areas": null,
      "grid_template_columns": null,
      "grid_template_rows": null,
      "height": null,
      "justify_content": null,
      "justify_items": null,
      "left": null,
      "margin": null,
      "max_height": null,
      "max_width": null,
      "min_height": null,
      "min_width": null,
      "object_fit": null,
      "object_position": null,
      "order": null,
      "overflow": null,
      "overflow_x": null,
      "overflow_y": null,
      "padding": null,
      "right": null,
      "top": null,
      "visibility": null,
      "width": null
     }
    },
    "f1199ab41a5e4cfcb4a3de69209599e6": {
     "model_module": "@jupyter-widgets/base",
     "model_module_version": "1.2.0",
     "model_name": "LayoutModel",
     "state": {
      "_model_module": "@jupyter-widgets/base",
      "_model_module_version": "1.2.0",
      "_model_name": "LayoutModel",
      "_view_count": null,
      "_view_module": "@jupyter-widgets/base",
      "_view_module_version": "1.2.0",
      "_view_name": "LayoutView",
      "align_content": null,
      "align_items": null,
      "align_self": null,
      "border": null,
      "bottom": null,
      "display": null,
      "flex": null,
      "flex_flow": null,
      "grid_area": null,
      "grid_auto_columns": null,
      "grid_auto_flow": null,
      "grid_auto_rows": null,
      "grid_column": null,
      "grid_gap": null,
      "grid_row": null,
      "grid_template_areas": null,
      "grid_template_columns": null,
      "grid_template_rows": null,
      "height": null,
      "justify_content": null,
      "justify_items": null,
      "left": null,
      "margin": null,
      "max_height": null,
      "max_width": null,
      "min_height": null,
      "min_width": null,
      "object_fit": null,
      "object_position": null,
      "order": null,
      "overflow": null,
      "overflow_x": null,
      "overflow_y": null,
      "padding": null,
      "right": null,
      "top": null,
      "visibility": null,
      "width": null
     }
    },
    "f48b311218b54b218026a660487925c5": {
     "model_module": "@jupyter-widgets/base",
     "model_module_version": "1.2.0",
     "model_name": "LayoutModel",
     "state": {
      "_model_module": "@jupyter-widgets/base",
      "_model_module_version": "1.2.0",
      "_model_name": "LayoutModel",
      "_view_count": null,
      "_view_module": "@jupyter-widgets/base",
      "_view_module_version": "1.2.0",
      "_view_name": "LayoutView",
      "align_content": null,
      "align_items": null,
      "align_self": null,
      "border": null,
      "bottom": null,
      "display": null,
      "flex": null,
      "flex_flow": null,
      "grid_area": null,
      "grid_auto_columns": null,
      "grid_auto_flow": null,
      "grid_auto_rows": null,
      "grid_column": null,
      "grid_gap": null,
      "grid_row": null,
      "grid_template_areas": null,
      "grid_template_columns": null,
      "grid_template_rows": null,
      "height": null,
      "justify_content": null,
      "justify_items": null,
      "left": null,
      "margin": null,
      "max_height": null,
      "max_width": null,
      "min_height": null,
      "min_width": null,
      "object_fit": null,
      "object_position": null,
      "order": null,
      "overflow": null,
      "overflow_x": null,
      "overflow_y": null,
      "padding": null,
      "right": null,
      "top": null,
      "visibility": null,
      "width": null
     }
    },
    "f8b832e0b4a1498dbb736d1bd0f82ce5": {
     "model_module": "@jupyter-widgets/controls",
     "model_module_version": "1.5.0",
     "model_name": "DescriptionStyleModel",
     "state": {
      "_model_module": "@jupyter-widgets/controls",
      "_model_module_version": "1.5.0",
      "_model_name": "DescriptionStyleModel",
      "_view_count": null,
      "_view_module": "@jupyter-widgets/base",
      "_view_module_version": "1.2.0",
      "_view_name": "StyleView",
      "description_width": ""
     }
    },
    "f8fae80e40a54768862e6c411a9f3cab": {
     "model_module": "@jupyter-widgets/base",
     "model_module_version": "1.2.0",
     "model_name": "LayoutModel",
     "state": {
      "_model_module": "@jupyter-widgets/base",
      "_model_module_version": "1.2.0",
      "_model_name": "LayoutModel",
      "_view_count": null,
      "_view_module": "@jupyter-widgets/base",
      "_view_module_version": "1.2.0",
      "_view_name": "LayoutView",
      "align_content": null,
      "align_items": null,
      "align_self": null,
      "border": null,
      "bottom": null,
      "display": null,
      "flex": null,
      "flex_flow": null,
      "grid_area": null,
      "grid_auto_columns": null,
      "grid_auto_flow": null,
      "grid_auto_rows": null,
      "grid_column": null,
      "grid_gap": null,
      "grid_row": null,
      "grid_template_areas": null,
      "grid_template_columns": null,
      "grid_template_rows": null,
      "height": null,
      "justify_content": null,
      "justify_items": null,
      "left": null,
      "margin": null,
      "max_height": null,
      "max_width": null,
      "min_height": null,
      "min_width": null,
      "object_fit": null,
      "object_position": null,
      "order": null,
      "overflow": null,
      "overflow_x": null,
      "overflow_y": null,
      "padding": null,
      "right": null,
      "top": null,
      "visibility": null,
      "width": null
     }
    },
    "faaac199c3bd4d81a38bd300e5da5d7b": {
     "model_module": "@jupyter-widgets/controls",
     "model_module_version": "1.5.0",
     "model_name": "FloatProgressModel",
     "state": {
      "_dom_classes": [],
      "_model_module": "@jupyter-widgets/controls",
      "_model_module_version": "1.5.0",
      "_model_name": "FloatProgressModel",
      "_view_count": null,
      "_view_module": "@jupyter-widgets/controls",
      "_view_module_version": "1.5.0",
      "_view_name": "ProgressView",
      "bar_style": "success",
      "description": "",
      "description_tooltip": null,
      "layout": "IPY_MODEL_f48b311218b54b218026a660487925c5",
      "max": 5148,
      "min": 0,
      "orientation": "horizontal",
      "style": "IPY_MODEL_d78a7b6865d141cea6977045fc2f1005",
      "value": 5148
     }
    }
   }
  }
 },
 "nbformat": 4,
 "nbformat_minor": 4
}
